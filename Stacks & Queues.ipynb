{
 "cells": [
  {
   "cell_type": "code",
   "execution_count": 2,
   "metadata": {},
   "outputs": [],
   "source": [
    "## Stacks and Queues\n",
    "\n",
    "\"\"\"\n",
    "a stack is a stack of data - akin to a deck of cards\n",
    "\n",
    "specifically, it uses LIFO (last-in, first-out) ordering\n",
    "i.e. the most recent item added to the stack is the first to be removed\n",
    "\n",
    "stack supports the following operations:\n",
    "- pop() : remove and return the top item from the stack\n",
    "- push(item) : add item to the top of the stack\n",
    "- peek(): return the top of the stack without removing\n",
    "- is_empty(): return True if and only if the stack is empty\n",
    "\"\"\"\n",
    "\n",
    "class EmptyStackException(Exception):\n",
    "    pass\n",
    "\n",
    "class StackNode(object):\n",
    "    def __init__(self, data):\n",
    "        self.data = data\n",
    "        self.next = None\n",
    "        \n",
    "class Stack(object):\n",
    "    def __init__(self, data=None):\n",
    "        if data:\n",
    "            self.top = StackNode(data)\n",
    "        else:\n",
    "            self.top = None\n",
    "\n",
    "    def pop(self):\n",
    "        if self.is_empty():\n",
    "            raise EmptyStackException()\n",
    "        data = self.top.data\n",
    "        self.top = self.top.next\n",
    "        return data\n",
    "\n",
    "    def push(self, item):\n",
    "        node = StackNode(item)\n",
    "        node.next = self.top\n",
    "        self.top = node\n",
    "        \n",
    "    def peek(self):\n",
    "        if self.is_empty():\n",
    "            raise EmptyStackException()\n",
    "        return self.top.data\n",
    "\n",
    "    def is_empty(self):\n",
    "        if not self.top:\n",
    "            return True\n",
    "        return False\n"
   ]
  },
  {
   "cell_type": "code",
   "execution_count": 3,
   "metadata": {},
   "outputs": [
    {
     "name": "stdout",
     "output_type": "stream",
     "text": [
      "peek at top: 1234\n",
      "pop one off top: 1234\n",
      "peek at top: shit\n"
     ]
    }
   ],
   "source": [
    "# Test Case\n",
    "\n",
    "s = Stack('some')\n",
    "s.push('other')\n",
    "s.push('shit')\n",
    "s.push(1234)\n",
    "print(f'peek at top: {s.peek()}')\n",
    "print(f'pop one off top: {s.pop()}')\n",
    "print(f'peek at top: {s.peek()}')"
   ]
  },
  {
   "cell_type": "code",
   "execution_count": 24,
   "metadata": {},
   "outputs": [],
   "source": [
    "## Stack Minimum\n",
    "\"\"\"\n",
    "how would you design a stack which, in addition to push and pop\n",
    "had a function, min(), which would return the minimum (lowest value) element of the stack\n",
    "\"\"\"\n",
    "\n",
    "class MinStackNode(object):\n",
    "    def __init__(self, data):\n",
    "        self.data = data\n",
    "        self.min = None\n",
    "        self.next = None\n",
    "\n",
    "class MinStack(object):\n",
    "    def __init__(self):\n",
    "        self.top = None\n",
    "        self.min = None\n",
    "\n",
    "    def push(self, item):\n",
    "        node = MinStackNode(item)\n",
    "        node.next = self.top\n",
    "        self.top = node\n",
    "        node.min = self.min\n",
    "        if not self.min or node.data < self.min:\n",
    "            self.min = node.data\n",
    "        self.top = node\n",
    "        \n",
    "    def pop(self):\n",
    "        if not self.top:\n",
    "            raise Exception\n",
    "        top = self.top\n",
    "        self.top = top.next\n",
    "        if top.data == self.min:\n",
    "            self.min = top.min\n",
    "        return top.data\n",
    "    \n",
    "# this is constant time (i.e. O(1)) - no iteration"
   ]
  },
  {
   "cell_type": "code",
   "execution_count": 31,
   "metadata": {},
   "outputs": [
    {
     "name": "stdout",
     "output_type": "stream",
     "text": [
      "None\n"
     ]
    }
   ],
   "source": [
    "# Nothing in the stack, should return None\n",
    "\n",
    "my_stack = MinStack()\n",
    "print(my_stack.min)  # Note that min is not a function here, but an attribute"
   ]
  },
  {
   "cell_type": "code",
   "execution_count": 32,
   "metadata": {},
   "outputs": [
    {
     "name": "stdout",
     "output_type": "stream",
     "text": [
      "5\n"
     ]
    }
   ],
   "source": [
    "# pushes the integer 5 onto the stack; should return 5\n",
    "# stack is:\n",
    "\"\"\"\n",
    "5\n",
    "\"\"\"\n",
    "\n",
    "my_stack.push(5)\n",
    "print(my_stack.min)"
   ]
  },
  {
   "cell_type": "code",
   "execution_count": 33,
   "metadata": {},
   "outputs": [
    {
     "name": "stdout",
     "output_type": "stream",
     "text": [
      "3\n"
     ]
    }
   ],
   "source": [
    "# pushes the integer 3 onto the stack; should return 3\n",
    "# stack is:\n",
    "\"\"\"\n",
    "3  <-- 3 on top now\n",
    "5\n",
    "\"\"\"\n",
    "\n",
    "my_stack.push(3)\n",
    "print(my_stack.min)"
   ]
  },
  {
   "cell_type": "code",
   "execution_count": 34,
   "metadata": {},
   "outputs": [
    {
     "name": "stdout",
     "output_type": "stream",
     "text": [
      "3\n"
     ]
    }
   ],
   "source": [
    "# pushes the integer 4 onto the stack; should return 3\n",
    "# stack is:\n",
    "\"\"\"\n",
    "4\n",
    "3\n",
    "5\n",
    "\"\"\"\n",
    "\n",
    "my_stack.push(4)\n",
    "print(my_stack.min)"
   ]
  },
  {
   "cell_type": "code",
   "execution_count": 35,
   "metadata": {},
   "outputs": [
    {
     "data": {
      "text/plain": [
       "3"
      ]
     },
     "execution_count": 35,
     "metadata": {},
     "output_type": "execute_result"
    }
   ],
   "source": [
    "# pop the top two items off the stack; should return 3\n",
    "# stack is:\n",
    "\"\"\"\n",
    "4\n",
    "3\n",
    "5\n",
    "\"\"\"\n",
    "\n",
    "my_stack.pop()\n",
    "my_stack.pop()"
   ]
  },
  {
   "cell_type": "code",
   "execution_count": 36,
   "metadata": {},
   "outputs": [
    {
     "name": "stdout",
     "output_type": "stream",
     "text": [
      "5\n"
     ]
    }
   ],
   "source": [
    "# test; should be 5\n",
    "\n",
    "print(my_stack.min)"
   ]
  },
  {
   "cell_type": "code",
   "execution_count": 37,
   "metadata": {},
   "outputs": [
    {
     "name": "stdout",
     "output_type": "stream",
     "text": [
      "fizz\n",
      "bar\n",
      "foo\n",
      "buzz\n"
     ]
    }
   ],
   "source": [
    "# visualizing the frame stack\n",
    "## this is what CPUs do and what stack traces show you\n",
    "\n",
    "def foo():\n",
    "    # step 6: step into the foo invocation frame\n",
    "    print('foo')    # step 7: step into the print invocation frame, passing it 'foo'\n",
    "    \n",
    "def bar():\n",
    "    # step 4: step into the bar invocation frame\n",
    "    print('bar')     # step 5: step into the print invocation frame, passing it 'bar'\n",
    "    foo()\n",
    "    \n",
    "def fizz():\n",
    "    # step 2: step into the fizz invocation frame\n",
    "    print('fizz')    # step 3: step into the print invocation frame, passing it 'fizz'\n",
    "    bar() \n",
    "    print('buzz')    # step 8: step into the print invocation frame, passing it 'buzz'\n",
    "    \n",
    "fizz()    # step 1: freeze the state here and put it on top of the frame stack"
   ]
  },
  {
   "cell_type": "code",
   "execution_count": 38,
   "metadata": {
    "scrolled": false
   },
   "outputs": [
    {
     "name": "stdout",
     "output_type": "stream",
     "text": [
      "fizz\n",
      "bar\n"
     ]
    },
    {
     "ename": "Exception",
     "evalue": "",
     "output_type": "error",
     "traceback": [
      "\u001b[0;31m---------------------------------------------------------------------------\u001b[0m",
      "\u001b[0;31mException\u001b[0m                                 Traceback (most recent call last)",
      "\u001b[0;32m<ipython-input-38-c82872210698>\u001b[0m in \u001b[0;36m<module>\u001b[0;34m\u001b[0m\n\u001b[1;32m     17\u001b[0m     \u001b[0mprint\u001b[0m\u001b[0;34m(\u001b[0m\u001b[0;34m'buzz'\u001b[0m\u001b[0;34m)\u001b[0m    \u001b[0;31m# this will never be invoked\u001b[0m\u001b[0;34m\u001b[0m\u001b[0;34m\u001b[0m\u001b[0m\n\u001b[1;32m     18\u001b[0m \u001b[0;34m\u001b[0m\u001b[0m\n\u001b[0;32m---> 19\u001b[0;31m \u001b[0mfizz\u001b[0m\u001b[0;34m(\u001b[0m\u001b[0;34m)\u001b[0m    \u001b[0;31m# step 1: freeze the state here and put it on top of the frame stack\u001b[0m\u001b[0;34m\u001b[0m\u001b[0;34m\u001b[0m\u001b[0m\n\u001b[0m",
      "\u001b[0;32m<ipython-input-38-c82872210698>\u001b[0m in \u001b[0;36mfizz\u001b[0;34m()\u001b[0m\n\u001b[1;32m     14\u001b[0m     \u001b[0;31m# step 2: step into the fizz invocation frame\u001b[0m\u001b[0;34m\u001b[0m\u001b[0;34m\u001b[0m\u001b[0;34m\u001b[0m\u001b[0m\n\u001b[1;32m     15\u001b[0m     \u001b[0mprint\u001b[0m\u001b[0;34m(\u001b[0m\u001b[0;34m'fizz'\u001b[0m\u001b[0;34m)\u001b[0m    \u001b[0;31m# step 3: step into the print invocation frame, passing it 'fizz'\u001b[0m\u001b[0;34m\u001b[0m\u001b[0;34m\u001b[0m\u001b[0m\n\u001b[0;32m---> 16\u001b[0;31m     \u001b[0mbar\u001b[0m\u001b[0;34m(\u001b[0m\u001b[0;34m)\u001b[0m\u001b[0;34m\u001b[0m\u001b[0;34m\u001b[0m\u001b[0m\n\u001b[0m\u001b[1;32m     17\u001b[0m     \u001b[0mprint\u001b[0m\u001b[0;34m(\u001b[0m\u001b[0;34m'buzz'\u001b[0m\u001b[0;34m)\u001b[0m    \u001b[0;31m# this will never be invoked\u001b[0m\u001b[0;34m\u001b[0m\u001b[0;34m\u001b[0m\u001b[0m\n\u001b[1;32m     18\u001b[0m \u001b[0;34m\u001b[0m\u001b[0m\n",
      "\u001b[0;32m<ipython-input-38-c82872210698>\u001b[0m in \u001b[0;36mbar\u001b[0;34m()\u001b[0m\n\u001b[1;32m      9\u001b[0m     \u001b[0;31m# step 4: step into the bar invocation frame\u001b[0m\u001b[0;34m\u001b[0m\u001b[0;34m\u001b[0m\u001b[0;34m\u001b[0m\u001b[0m\n\u001b[1;32m     10\u001b[0m     \u001b[0mprint\u001b[0m\u001b[0;34m(\u001b[0m\u001b[0;34m'bar'\u001b[0m\u001b[0;34m)\u001b[0m     \u001b[0;31m# step 5: step into the print invocation frame, passing it 'bar'\u001b[0m\u001b[0;34m\u001b[0m\u001b[0;34m\u001b[0m\u001b[0m\n\u001b[0;32m---> 11\u001b[0;31m     \u001b[0mfoo\u001b[0m\u001b[0;34m(\u001b[0m\u001b[0;34m)\u001b[0m\u001b[0;34m\u001b[0m\u001b[0;34m\u001b[0m\u001b[0m\n\u001b[0m\u001b[1;32m     12\u001b[0m \u001b[0;34m\u001b[0m\u001b[0m\n\u001b[1;32m     13\u001b[0m \u001b[0;32mdef\u001b[0m \u001b[0mfizz\u001b[0m\u001b[0;34m(\u001b[0m\u001b[0;34m)\u001b[0m\u001b[0;34m:\u001b[0m\u001b[0;34m\u001b[0m\u001b[0;34m\u001b[0m\u001b[0m\n",
      "\u001b[0;32m<ipython-input-38-c82872210698>\u001b[0m in \u001b[0;36mfoo\u001b[0;34m()\u001b[0m\n\u001b[1;32m      4\u001b[0m \u001b[0;32mdef\u001b[0m \u001b[0mfoo\u001b[0m\u001b[0;34m(\u001b[0m\u001b[0;34m)\u001b[0m\u001b[0;34m:\u001b[0m\u001b[0;34m\u001b[0m\u001b[0;34m\u001b[0m\u001b[0m\n\u001b[1;32m      5\u001b[0m     \u001b[0;31m# step 6: step into the foo invocation frame\u001b[0m\u001b[0;34m\u001b[0m\u001b[0;34m\u001b[0m\u001b[0;34m\u001b[0m\u001b[0m\n\u001b[0;32m----> 6\u001b[0;31m     \u001b[0;32mraise\u001b[0m \u001b[0mException\u001b[0m  \u001b[0;31m# step 7: error thrown - STOP EVERYTHING and unwind the stack\u001b[0m\u001b[0;34m\u001b[0m\u001b[0;34m\u001b[0m\u001b[0m\n\u001b[0m\u001b[1;32m      7\u001b[0m \u001b[0;34m\u001b[0m\u001b[0m\n\u001b[1;32m      8\u001b[0m \u001b[0;32mdef\u001b[0m \u001b[0mbar\u001b[0m\u001b[0;34m(\u001b[0m\u001b[0;34m)\u001b[0m\u001b[0;34m:\u001b[0m\u001b[0;34m\u001b[0m\u001b[0;34m\u001b[0m\u001b[0m\n",
      "\u001b[0;31mException\u001b[0m: "
     ]
    }
   ],
   "source": [
    "# visualizing the frame stack\n",
    "## this is what CPUs do and what stack traces show you\n",
    "\n",
    "def foo():\n",
    "    # step 6: step into the foo invocation frame\n",
    "    raise Exception  # step 7: error thrown - STOP EVERYTHING and unwind the stack\n",
    "    \n",
    "def bar():\n",
    "    # step 4: step into the bar invocation frame\n",
    "    print('bar')     # step 5: step into the print invocation frame, passing it 'bar'\n",
    "    foo()\n",
    "    \n",
    "def fizz():\n",
    "    # step 2: step into the fizz invocation frame\n",
    "    print('fizz')    # step 3: step into the print invocation frame, passing it 'fizz'\n",
    "    bar() \n",
    "    print('buzz')    # this will never be invoked\n",
    "    \n",
    "fizz()    # step 1: freeze the state here and put it on top of the frame stack"
   ]
  },
  {
   "cell_type": "code",
   "execution_count": 40,
   "metadata": {},
   "outputs": [
    {
     "data": {
      "text/plain": [
       "'\\na queue implements FIFO (first-in, first-out) ordering\\n\\ne.g. a line for a ticket stand\\n\\nit uses the following operations:\\n- add(item): add an item to the end of the queue\\n- remove(item): remove an item from the front of the queue\\n- peek(): return the top item in the queue\\n- is_empty(): return true if and only if the queue is empty\\n'"
      ]
     },
     "execution_count": 40,
     "metadata": {},
     "output_type": "execute_result"
    }
   ],
   "source": [
    "## QUEUES\n",
    "\"\"\"\n",
    "a queue implements FIFO (first-in, first-out) ordering\n",
    "\n",
    "e.g. a line for a ticket stand\n",
    "\n",
    "it uses the following operations:\n",
    "- add(item): add an item to the end of the queue\n",
    "- remove(): remove an item from the front of the queue and return it\n",
    "- peek(): return the top item in the queue\n",
    "- is_empty(): return true if and only if the queue is empty\n",
    "\"\"\""
   ]
  },
  {
   "cell_type": "code",
   "execution_count": 41,
   "metadata": {},
   "outputs": [],
   "source": [
    "# how to build a queue\n",
    "# (a queue is powered by a linked list)\n",
    "\n",
    "class QueueNode(object):\n",
    "    def __init__(self, data):\n",
    "        self.data = data\n",
    "        self.next = None\n",
    "\n",
    "class Queue(object):\n",
    "    def __init__(self):\n",
    "        self.top = None\n",
    "        self.bottom = None\n",
    "        \n",
    "    def add(self, item):\n",
    "        node = QueueNode(item)\n",
    "        if self.bottom:\n",
    "            self.bottom.next = node\n",
    "            self.bottom = node\n",
    "        else:\n",
    "            self.bottom = node\n",
    "        if not self.top:\n",
    "            self.top = node\n",
    "            \n",
    "    def remove(self):\n",
    "        if not self.top:\n",
    "            raise Exception\n",
    "        top = self.top\n",
    "        self.top = top.next\n",
    "        return top.data\n",
    "    \n",
    "    def peek(self):\n",
    "        if not self.top:\n",
    "            raise Exception\n",
    "        return self.top.data\n",
    "    \n",
    "    def is_empty(self):\n",
    "        if not self.bottom:\n",
    "            return True\n",
    "        return False"
   ]
  },
  {
   "cell_type": "code",
   "execution_count": 44,
   "metadata": {},
   "outputs": [
    {
     "name": "stdout",
     "output_type": "stream",
     "text": [
      "True\n",
      "False\n"
     ]
    }
   ],
   "source": [
    "# let's test it out\n",
    "\n",
    "q = Queue()\n",
    "print(q.is_empty())    # should be True\n",
    "q.add('foo')\n",
    "q.add('bar')\n",
    "q.add('fizz')\n",
    "q.add('buzz')\n",
    "print(q.is_empty())    # should be False"
   ]
  },
  {
   "cell_type": "code",
   "execution_count": 45,
   "metadata": {},
   "outputs": [
    {
     "name": "stdout",
     "output_type": "stream",
     "text": [
      "foo\n",
      "foo\n",
      "bar\n",
      "fizz\n",
      "buzz\n"
     ]
    }
   ],
   "source": [
    "print(q.peek())    # should be 'foo'; does not remove 'foo'\n",
    "print(q.remove())  # should be 'foo'; removes 'foo'\n",
    "print(q.remove())  # should be 'bar'; removes 'bar'\n",
    "print(q.remove())  # should be 'fizz'; removes 'fizz'\n",
    "print(q.peek())      # should be 'buzz'; does not remove 'buzz'"
   ]
  },
  {
   "cell_type": "code",
   "execution_count": 46,
   "metadata": {},
   "outputs": [],
   "source": [
    "## we have verified that our queue works as designed"
   ]
  },
  {
   "cell_type": "code",
   "execution_count": 49,
   "metadata": {},
   "outputs": [],
   "source": [
    "# Now let's do some problems\n",
    "\"\"\"\n",
    "Queue via Stacks\n",
    "\n",
    "implement a MyQ class which implements a queue using 2 stacks\n",
    "\"\"\"\n",
    "\n",
    "class EmptyStackException(Exception):\n",
    "    pass\n",
    "\n",
    "class StackNode(object):\n",
    "    def __init__(self, data):\n",
    "        self.data = data\n",
    "        self.next = None\n",
    "        \n",
    "class Stack(object):\n",
    "    def __init__(self, data=None):\n",
    "        if data:\n",
    "            self.top = StackNode(data)\n",
    "        else:\n",
    "            self.top = None\n",
    "\n",
    "    def pop(self):\n",
    "        if self.is_empty():\n",
    "            raise EmptyStackException()\n",
    "        data = self.top.data\n",
    "        self.top = self.top.next\n",
    "        return data\n",
    "\n",
    "    def push(self, item):\n",
    "        node = StackNode(item)\n",
    "        node.next = self.top\n",
    "        self.top = node\n",
    "        \n",
    "    def peek(self):\n",
    "        if self.is_empty():\n",
    "            raise EmptyStackException()\n",
    "        return self.top.data\n",
    "\n",
    "    def is_empty(self):\n",
    "        if not self.top:\n",
    "            return True\n",
    "        return False\n",
    "    \n",
    "class EmptyQueueException(Exception):\n",
    "    pass\n",
    "    \n",
    "class MyQ(object):\n",
    "    def __init__(self):\n",
    "        self.top = Stack()\n",
    "        self.bottom = Stack()\n",
    "        \n",
    "    def add(self, item):\n",
    "        self.bottom.push(item)\n",
    "        \n",
    "    def remove(self):\n",
    "        if self.bottom.is_empty() and self.top.is_empty():\n",
    "            raise EmptyQueueException('err: the queue is empty')\n",
    "        if self.top.is_empty():\n",
    "            while not self.bottom.is_empty():\n",
    "                self.top.push(self.bottom.pop())\n",
    "        return self.top.pop()\n",
    "    \n",
    "## TODO: implement peek() and is_empty()\n",
    "\n",
    "# the complexity of this is O(n), primarily impacted by the while loop\n",
    "# that flushes the bottom stack items into the top stack"
   ]
  },
  {
   "cell_type": "code",
   "execution_count": 50,
   "metadata": {},
   "outputs": [],
   "source": [
    "## Queue question 2\n",
    "\"\"\"\n",
    "Animal Shelter\n",
    "\n",
    "an animal shelter which holds only dogs and cats operates on a strictly FIFO basis\n",
    "people must adopt either the oldest, based on arrival time of\n",
    "all animals currently in the shelter, OR\n",
    "they can select whether or not they would like a dog or a cat, and\n",
    "will receive the oldest animal of that type\n",
    "\n",
    "note: they cannot select a specific dog or cat\n",
    "\n",
    "create the data structures to maintain the system, and implement operations:\n",
    "- enqueue(animal): enqueues a new animal\n",
    "- dequeue_any(): pop the oldest animal regardless of animal type\n",
    "- dequeue_cat(): pop the oldest cat\n",
    "- dequeue_dog(): pop the oldest dog\n",
    "\n",
    "assume that you can use linked lists that can be added to or removed from on either end\n",
    "note: pushing and popping from either side is constant time (i.e. O(1))\n",
    "\"\"\"\n",
    "\n",
    "from collections import deque\n",
    "\n",
    "class Animal(object):\n",
    "    def __init__(self, species, name):\n",
    "        self.species = species\n",
    "        self.name = name\n",
    "\n",
    "class AnimalShelter(object):\n",
    "    def __init__(self):\n",
    "        self.animals = deque()\n",
    "        \n",
    "    def enqeue(self, animal):\n",
    "        self.animals.append(animal)    # adds at end\n",
    "    \n",
    "    def dequeue_any(self):\n",
    "        return self.animals.popleft() # pop the first animal out and return it\n",
    "    \n",
    "    def dequeue_cat(self):\n",
    "        for animal in self.animals:\n",
    "            if animal.species == 'cat':\n",
    "                self.animals.remove(animal)\n",
    "                return animal\n",
    "\n",
    "    def dequeue_dog(self):\n",
    "        for animal in self.animals:\n",
    "            if animal.species == 'dog':\n",
    "                self.animals.remove(animal)\n",
    "                return animal\n",
    "\n",
    "# this is the obvious bruteforce method - complexity of O(n)"
   ]
  },
  {
   "cell_type": "code",
   "execution_count": 59,
   "metadata": {},
   "outputs": [],
   "source": [
    "# let's optimize\n",
    "\n",
    "from collections import deque\n",
    "\n",
    "class Animal(object):\n",
    "    def __init__(self, species, name):\n",
    "        self.species = species\n",
    "        self.name = name\n",
    "        self.order = None\n",
    "\n",
    "class AnimalShelter(object):\n",
    "    def __init__(self):\n",
    "        self.dogs = deque()\n",
    "        self.cats = deque()\n",
    "        self.order = 0\n",
    "        \n",
    "    def enqueue(self, animal):\n",
    "        animal.order = self.order\n",
    "        self.order += 1\n",
    "        if animal.species == 'cat':\n",
    "            self.cats.append(animal)\n",
    "        elif animal.species == 'dog':\n",
    "            self.dogs.append(animal)\n",
    "        else:\n",
    "            raise Exception    # we don't take those kinds of animals\n",
    "    \n",
    "    def dequeue_any(self):\n",
    "        if len(self.cats) == 0:\n",
    "            return self.dequeue_dog()\n",
    "        if len(self.dogs) == 0:\n",
    "            return self.dequeue_cat()\n",
    "        # Fail hard if no cats or dogs - shelter is empty\n",
    "        if self.dogs[0].order < self.cats[0].order:\n",
    "            return self.dequeue_dog()\n",
    "        else:\n",
    "            return self.dequeue_cat()\n",
    "    \n",
    "    def dequeue_cat(self):\n",
    "        return self.cats.popleft()\n",
    "\n",
    "    def dequeue_dog(self):\n",
    "        return self.dogs.popleft()\n",
    "    \n",
    "# the complexity here is constant time (i.e. O(1)), but we are using a lot more storage"
   ]
  },
  {
   "cell_type": "code",
   "execution_count": 60,
   "metadata": {},
   "outputs": [],
   "source": [
    "shelter = AnimalShelter()\n",
    "hubcat = Animal('cat', 'hubcat')\n",
    "miles = Animal('dog', 'miles')\n",
    "bella = Animal('dog', 'bella')\n",
    "shere_khan = Animal('cat', 'shere khan')\n",
    "\n",
    "shelter.enqueue(miles)\n",
    "shelter.enqueue(shere_khan)\n",
    "shelter.enqueue(hubcat)\n",
    "shelter.enqueue(bella)"
   ]
  },
  {
   "cell_type": "code",
   "execution_count": 61,
   "metadata": {},
   "outputs": [
    {
     "name": "stdout",
     "output_type": "stream",
     "text": [
      "shere khan\n"
     ]
    }
   ],
   "source": [
    "print(shelter.dequeue_cat().name)"
   ]
  },
  {
   "cell_type": "code",
   "execution_count": 62,
   "metadata": {},
   "outputs": [
    {
     "name": "stdout",
     "output_type": "stream",
     "text": [
      "miles\n"
     ]
    }
   ],
   "source": [
    "print(shelter.dequeue_any().name)"
   ]
  },
  {
   "cell_type": "code",
   "execution_count": 63,
   "metadata": {},
   "outputs": [
    {
     "name": "stdout",
     "output_type": "stream",
     "text": [
      "bella\n"
     ]
    }
   ],
   "source": [
    "print(shelter.dequeue_dog().name)"
   ]
  },
  {
   "cell_type": "code",
   "execution_count": 64,
   "metadata": {},
   "outputs": [
    {
     "name": "stdout",
     "output_type": "stream",
     "text": [
      "hubcat\n"
     ]
    }
   ],
   "source": [
    "print(shelter.dequeue_any().name)"
   ]
  },
  {
   "cell_type": "code",
   "execution_count": 65,
   "metadata": {},
   "outputs": [
    {
     "ename": "IndexError",
     "evalue": "pop from an empty deque",
     "output_type": "error",
     "traceback": [
      "\u001b[0;31m---------------------------------------------------------------------------\u001b[0m",
      "\u001b[0;31mIndexError\u001b[0m                                Traceback (most recent call last)",
      "\u001b[0;32m<ipython-input-65-d16e74358f0f>\u001b[0m in \u001b[0;36m<module>\u001b[0;34m\u001b[0m\n\u001b[0;32m----> 1\u001b[0;31m \u001b[0mshelter\u001b[0m\u001b[0;34m.\u001b[0m\u001b[0mdequeue_any\u001b[0m\u001b[0;34m(\u001b[0m\u001b[0;34m)\u001b[0m\u001b[0;34m\u001b[0m\u001b[0;34m\u001b[0m\u001b[0m\n\u001b[0m",
      "\u001b[0;32m<ipython-input-59-479d73a687d5>\u001b[0m in \u001b[0;36mdequeue_any\u001b[0;34m(self)\u001b[0m\n\u001b[1;32m     27\u001b[0m     \u001b[0;32mdef\u001b[0m \u001b[0mdequeue_any\u001b[0m\u001b[0;34m(\u001b[0m\u001b[0mself\u001b[0m\u001b[0;34m)\u001b[0m\u001b[0;34m:\u001b[0m\u001b[0;34m\u001b[0m\u001b[0;34m\u001b[0m\u001b[0m\n\u001b[1;32m     28\u001b[0m         \u001b[0;32mif\u001b[0m \u001b[0mlen\u001b[0m\u001b[0;34m(\u001b[0m\u001b[0mself\u001b[0m\u001b[0;34m.\u001b[0m\u001b[0mcats\u001b[0m\u001b[0;34m)\u001b[0m \u001b[0;34m==\u001b[0m \u001b[0;36m0\u001b[0m\u001b[0;34m:\u001b[0m\u001b[0;34m\u001b[0m\u001b[0;34m\u001b[0m\u001b[0m\n\u001b[0;32m---> 29\u001b[0;31m             \u001b[0;32mreturn\u001b[0m \u001b[0mself\u001b[0m\u001b[0;34m.\u001b[0m\u001b[0mdequeue_dog\u001b[0m\u001b[0;34m(\u001b[0m\u001b[0;34m)\u001b[0m\u001b[0;34m\u001b[0m\u001b[0;34m\u001b[0m\u001b[0m\n\u001b[0m\u001b[1;32m     30\u001b[0m         \u001b[0;32mif\u001b[0m \u001b[0mlen\u001b[0m\u001b[0;34m(\u001b[0m\u001b[0mself\u001b[0m\u001b[0;34m.\u001b[0m\u001b[0mdogs\u001b[0m\u001b[0;34m)\u001b[0m \u001b[0;34m==\u001b[0m \u001b[0;36m0\u001b[0m\u001b[0;34m:\u001b[0m\u001b[0;34m\u001b[0m\u001b[0;34m\u001b[0m\u001b[0m\n\u001b[1;32m     31\u001b[0m             \u001b[0;32mreturn\u001b[0m \u001b[0mself\u001b[0m\u001b[0;34m.\u001b[0m\u001b[0mdequeue_cat\u001b[0m\u001b[0;34m(\u001b[0m\u001b[0;34m)\u001b[0m\u001b[0;34m\u001b[0m\u001b[0;34m\u001b[0m\u001b[0m\n",
      "\u001b[0;32m<ipython-input-59-479d73a687d5>\u001b[0m in \u001b[0;36mdequeue_dog\u001b[0;34m(self)\u001b[0m\n\u001b[1;32m     40\u001b[0m \u001b[0;34m\u001b[0m\u001b[0m\n\u001b[1;32m     41\u001b[0m     \u001b[0;32mdef\u001b[0m \u001b[0mdequeue_dog\u001b[0m\u001b[0;34m(\u001b[0m\u001b[0mself\u001b[0m\u001b[0;34m)\u001b[0m\u001b[0;34m:\u001b[0m\u001b[0;34m\u001b[0m\u001b[0;34m\u001b[0m\u001b[0m\n\u001b[0;32m---> 42\u001b[0;31m         \u001b[0;32mreturn\u001b[0m \u001b[0mself\u001b[0m\u001b[0;34m.\u001b[0m\u001b[0mdogs\u001b[0m\u001b[0;34m.\u001b[0m\u001b[0mpopleft\u001b[0m\u001b[0;34m(\u001b[0m\u001b[0;34m)\u001b[0m\u001b[0;34m\u001b[0m\u001b[0;34m\u001b[0m\u001b[0m\n\u001b[0m\u001b[1;32m     43\u001b[0m \u001b[0;34m\u001b[0m\u001b[0m\n\u001b[1;32m     44\u001b[0m \u001b[0;31m# the complexity here is constant time (i.e. O(1)), but we are using a lot more storage\u001b[0m\u001b[0;34m\u001b[0m\u001b[0;34m\u001b[0m\u001b[0;34m\u001b[0m\u001b[0m\n",
      "\u001b[0;31mIndexError\u001b[0m: pop from an empty deque"
     ]
    }
   ],
   "source": [
    "shelter.dequeue_any()"
   ]
  },
  {
   "cell_type": "code",
   "execution_count": null,
   "metadata": {},
   "outputs": [],
   "source": [
    "### MORE TO COME"
   ]
  }
 ],
 "metadata": {
  "kernelspec": {
   "display_name": "Python 3",
   "language": "python",
   "name": "python3"
  },
  "language_info": {
   "codemirror_mode": {
    "name": "ipython",
    "version": 3
   },
   "file_extension": ".py",
   "mimetype": "text/x-python",
   "name": "python",
   "nbconvert_exporter": "python",
   "pygments_lexer": "ipython3",
   "version": "3.7.4"
  }
 },
 "nbformat": 4,
 "nbformat_minor": 4
}
