{
 "cells": [
  {
   "cell_type": "code",
   "execution_count": 2,
   "metadata": {},
   "outputs": [],
   "source": [
    "## Stacks and Queues\n",
    "\n",
    "\"\"\"\n",
    "a stack is a stack of data - akin to a deck of cards\n",
    "\n",
    "specifically, it uses LIFO (last-in, first-out) ordering\n",
    "i.e. the most recent item added to the stack is the first to be removed\n",
    "\n",
    "stack supports the following operations:\n",
    "- pop() : remove and return the top item from the stack\n",
    "- push(item) : add item to the top of the stack\n",
    "- peek(): return the top of the stack without removing\n",
    "- is_empty(): return True if and only if the stack is empty\n",
    "\"\"\"\n",
    "\n",
    "class EmptyStackException(Exception):\n",
    "    pass\n",
    "\n",
    "class StackNode(object):\n",
    "    def __init__(self, data):\n",
    "        self.data = data\n",
    "        self.next = None\n",
    "        \n",
    "class Stack(object):\n",
    "    def __init__(self, data=None):\n",
    "        if data:\n",
    "            self.top = StackNode(data)\n",
    "        else:\n",
    "            self.top = None\n",
    "\n",
    "    def pop(self):\n",
    "        if self.is_empty():\n",
    "            raise EmptyStackException()\n",
    "        data = self.top.data\n",
    "        self.top = self.top.next\n",
    "        return data\n",
    "\n",
    "    def push(self, item):\n",
    "        node = StackNode(item)\n",
    "        node.next = self.top\n",
    "        self.top = node\n",
    "        \n",
    "    def peek(self):\n",
    "        if self.is_empty():\n",
    "            raise EmptyStackException()\n",
    "        return self.top.data\n",
    "\n",
    "    def is_empty(self):\n",
    "        if not self.top:\n",
    "            return True\n",
    "        return False\n"
   ]
  },
  {
   "cell_type": "code",
   "execution_count": 7,
   "metadata": {},
   "outputs": [
    {
     "name": "stdout",
     "output_type": "stream",
     "text": [
      "peek at top: 1234\n",
      "pop one off top: 1234\n",
      "peek at top: shit\n"
     ]
    }
   ],
   "source": [
    "# Test Case\n",
    "\n",
    "s = Stack('some')\n",
    "s.push('other')\n",
    "s.push('shit')\n",
    "s.push(1234)\n",
    "print(f'peek at top: {s.peek()}')\n",
    "print(f'pop one off top: {s.pop()}')\n",
    "print(f'peek at top: {s.peek()}')"
   ]
  },
  {
   "cell_type": "code",
   "execution_count": null,
   "metadata": {},
   "outputs": [],
   "source": [
    "## Stack Minimum\n",
    "\"\"\"\n",
    "how would you design a stack which, in addition to push and pop\n",
    "had a function, min(), which would return the minimum (lowest value) element of the stack\n",
    "\"\"\"\n",
    "\n",
    "class MinStackNode(object):\n",
    "    def __init__(self, data):\n",
    "        self.data = data\n",
    "        self.min = None\n",
    "        self.next = None\n",
    "\n",
    "class MinStack(Stack):\n",
    "    def push(item):\n",
    "        node = MinStackNode(item)\n",
    "        node.next = self.top\n",
    "        if self.top and self.top.min.data < node.data:\n",
    "            node.min = self.top.min\n",
    "        else:\n",
    "            self.min = node.min\n",
    "        self.top = node\n",
    "        \n",
    "###########################\n",
    "## WIP - TO BE CONTINUED ##\n",
    "###########################"
   ]
  }
 ],
 "metadata": {
  "kernelspec": {
   "display_name": "Python 3",
   "language": "python",
   "name": "python3"
  },
  "language_info": {
   "codemirror_mode": {
    "name": "ipython",
    "version": 3
   },
   "file_extension": ".py",
   "mimetype": "text/x-python",
   "name": "python",
   "nbconvert_exporter": "python",
   "pygments_lexer": "ipython3",
   "version": "3.7.4"
  }
 },
 "nbformat": 4,
 "nbformat_minor": 4
}
