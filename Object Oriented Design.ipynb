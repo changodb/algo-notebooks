{
 "cells": [
  {
   "cell_type": "code",
   "execution_count": 1,
   "metadata": {},
   "outputs": [
    {
     "data": {
      "text/plain": [
       "'\\nPro Tips:\\n- Handle ambiguity\\n  - asking questions: 6 W\\'s (who what when where why how)\\n  - what is the use case, what is the need\\n- Define the core objects\\n  - the core (needed) entities that represent \"things\" inside our system\\n  - they should be largely distinct (have different signatures, different data, used for different things)\\n- Determine the relationships between these objects\\n  - many => one, one => many, etc.\\n  - inheritance\\n  - singletons, uniqueness, etc.\\n  \\nrestaurant example:\\n- table (1 to 1 with party, generally - edge case: Ramen Tatsu-Ya - community tables)\\n- party (a group of guests - can contain only 1 guest)\\n- guest (a patron)\\n- employee\\n  - cook (subclass)\\n  - waiter\\n  - host\\n- shift (a group of employees who work at the same time)\\n- consumables\\n  - food\\n  - drink\\n- order (a group of consumables, 1 to 1 relationship with a party)\\n'"
      ]
     },
     "execution_count": 1,
     "metadata": {},
     "output_type": "execute_result"
    }
   ],
   "source": [
    "\"\"\"\n",
    "Pro Tips:\n",
    "- Handle ambiguity\n",
    "  - asking questions: 6 W's (who what when where why how)\n",
    "  - what is the use case, what is the need\n",
    "- Define the core objects\n",
    "  - the core (needed) entities that represent \"things\" inside our system\n",
    "  - they should be largely distinct (have different signatures, different data, used for different things)\n",
    "- Determine the relationships between these objects\n",
    "  - many => one, one => many, etc.\n",
    "  - inheritance\n",
    "  - singletons, uniqueness, etc.\n",
    "- Determine the actions that these core objects will perform and how this will affect state\n",
    "  - table.add_party_to_table(party)\n",
    "  - cook.cook_food_item(food)\n",
    "  - bartender.make_drink(drink)\n",
    "  - waiter.take_order(party) - return order\n",
    "  - party.add_member(guest)\n",
    "  \n",
    "restaurant example:\n",
    "- table (1 to 1 with party, generally - edge case: Ramen Tatsu-Ya - community tables)\n",
    "- party (a group of guests - can contain only 1 guest)\n",
    "- guest (a patron)\n",
    "- employee\n",
    "  - cook (subclass)\n",
    "  - waiter\n",
    "  - host\n",
    "  - bartender\n",
    "- shift (a group of employees who work at the same time)\n",
    "- consumable\n",
    "  - food\n",
    "  - drink\n",
    "- order (a group of consumables, 1 to 1 relationship with a party)\n",
    "\"\"\""
   ]
  },
  {
   "cell_type": "code",
   "execution_count": 2,
   "metadata": {},
   "outputs": [
    {
     "name": "stdout",
     "output_type": "stream",
     "text": [
      "['gene', 'chandler']\n",
      "['gene', 'chandler']\n"
     ]
    }
   ],
   "source": [
    "# anti-pattern funtime\n",
    "class Party(object):\n",
    "    def __init__(self, guests):\n",
    "        self.guests = guests\n",
    "        \n",
    "    def add_member(self, guest):\n",
    "        self.guests.append(guest)\n",
    "        \n",
    "cool_peeps = ['gene', 'chandler']\n",
    "\n",
    "cool_party = Party(cool_peeps)\n",
    "print(cool_peeps)\n",
    "print(cool_party.guests)"
   ]
  },
  {
   "cell_type": "code",
   "execution_count": 4,
   "metadata": {},
   "outputs": [
    {
     "name": "stdout",
     "output_type": "stream",
     "text": [
      "['gene', 'chandler', 'sam', 'sam']\n",
      "['gene', 'chandler', 'sam', 'sam']\n"
     ]
    }
   ],
   "source": [
    "cool_party.add_member('sam')\n",
    "print(cool_party.guests)\n",
    "print(cool_peeps) # <= this gets modified directly!"
   ]
  },
  {
   "cell_type": "code",
   "execution_count": 7,
   "metadata": {},
   "outputs": [
    {
     "name": "stdout",
     "output_type": "stream",
     "text": [
      "['butt']\n"
     ]
    }
   ],
   "source": [
    "def foo(bar=[]):\n",
    "    bar.append('butt')\n",
    "    print(bar)\n",
    "    \n",
    "foo()"
   ]
  },
  {
   "cell_type": "code",
   "execution_count": 8,
   "metadata": {},
   "outputs": [
    {
     "name": "stdout",
     "output_type": "stream",
     "text": [
      "['butt', 'butt']\n"
     ]
    }
   ],
   "source": [
    "foo()"
   ]
  },
  {
   "cell_type": "code",
   "execution_count": 9,
   "metadata": {},
   "outputs": [
    {
     "name": "stdout",
     "output_type": "stream",
     "text": [
      "['butt']\n"
     ]
    }
   ],
   "source": [
    "foo([])"
   ]
  },
  {
   "cell_type": "code",
   "execution_count": 10,
   "metadata": {},
   "outputs": [
    {
     "name": "stdout",
     "output_type": "stream",
     "text": [
      "['butt']\n"
     ]
    }
   ],
   "source": [
    "foo([])"
   ]
  },
  {
   "cell_type": "code",
   "execution_count": 11,
   "metadata": {},
   "outputs": [
    {
     "name": "stdout",
     "output_type": "stream",
     "text": [
      "['butt']\n"
     ]
    }
   ],
   "source": [
    "def foo(bar=list()):\n",
    "    bar.append('butt')\n",
    "    print(bar)\n",
    "    \n",
    "foo()"
   ]
  },
  {
   "cell_type": "code",
   "execution_count": 12,
   "metadata": {},
   "outputs": [
    {
     "name": "stdout",
     "output_type": "stream",
     "text": [
      "['butt', 'butt']\n"
     ]
    }
   ],
   "source": [
    "foo()"
   ]
  },
  {
   "cell_type": "code",
   "execution_count": 15,
   "metadata": {},
   "outputs": [
    {
     "name": "stdout",
     "output_type": "stream",
     "text": [
      "['butt']\n"
     ]
    }
   ],
   "source": [
    "# correction to the antipattern\n",
    "\n",
    "def foo(bar=None):\n",
    "    if bar is None:\n",
    "        bar = []\n",
    "    bar.append('butt')\n",
    "    print(bar)\n",
    "    \n",
    "foo()"
   ]
  },
  {
   "cell_type": "code",
   "execution_count": 16,
   "metadata": {},
   "outputs": [
    {
     "name": "stdout",
     "output_type": "stream",
     "text": [
      "['butt']\n"
     ]
    }
   ],
   "source": [
    "foo()"
   ]
  },
  {
   "cell_type": "code",
   "execution_count": 19,
   "metadata": {},
   "outputs": [
    {
     "name": "stdout",
     "output_type": "stream",
     "text": [
      "['gene', 'chandler']\n",
      "['gene', 'chandler', 'sam']\n",
      "['gene', 'chandler', 'sam', 'barack', 'joe']\n"
     ]
    }
   ],
   "source": [
    "class Party(object):\n",
    "    def __init__(self):\n",
    "        self.guests = []\n",
    "        \n",
    "    def add_member(self, guest):\n",
    "        self.guests.append(guest)\n",
    "        return self\n",
    "    \n",
    "    def add_members(self, guests):\n",
    "        self.guests.extend(guests)\n",
    "        return self\n",
    "\n",
    "cool_party = Party().add_member('gene').add_member('chandler')\n",
    "print(cool_party.guests)\n",
    "cool_party.add_member('sam')\n",
    "print(cool_party.guests)\n",
    "cool_party.add_members(['barack', 'joe'])\n",
    "print(cool_party.guests)"
   ]
  },
  {
   "cell_type": "code",
   "execution_count": 20,
   "metadata": {},
   "outputs": [
    {
     "ename": "TypeError",
     "evalue": "add_members() takes 2 positional arguments but 3 were given",
     "output_type": "error",
     "traceback": [
      "\u001b[0;31m---------------------------------------------------------------------------\u001b[0m",
      "\u001b[0;31mTypeError\u001b[0m                                 Traceback (most recent call last)",
      "\u001b[0;32m<ipython-input-20-06ef582a077e>\u001b[0m in \u001b[0;36m<module>\u001b[0;34m\u001b[0m\n\u001b[1;32m      1\u001b[0m \u001b[0;31m# this will not work\u001b[0m\u001b[0;34m\u001b[0m\u001b[0;34m\u001b[0m\u001b[0;34m\u001b[0m\u001b[0m\n\u001b[0;32m----> 2\u001b[0;31m \u001b[0mcool_party\u001b[0m\u001b[0;34m.\u001b[0m\u001b[0madd_members\u001b[0m\u001b[0;34m(\u001b[0m\u001b[0;34m'person1'\u001b[0m\u001b[0;34m,\u001b[0m \u001b[0;34m'person2'\u001b[0m\u001b[0;34m)\u001b[0m\u001b[0;34m\u001b[0m\u001b[0;34m\u001b[0m\u001b[0m\n\u001b[0m",
      "\u001b[0;31mTypeError\u001b[0m: add_members() takes 2 positional arguments but 3 were given"
     ]
    }
   ],
   "source": [
    "# this will not work\n",
    "cool_party.add_members('person1', 'person2')"
   ]
  },
  {
   "cell_type": "code",
   "execution_count": 21,
   "metadata": {},
   "outputs": [
    {
     "name": "stdout",
     "output_type": "stream",
     "text": [
      "['person1', 'person2']\n"
     ]
    }
   ],
   "source": [
    "class Party(object):\n",
    "    def __init__(self):\n",
    "        self.guests = []\n",
    "        \n",
    "    def add_member(self, guest):\n",
    "        self.guests.append(guest)\n",
    "        return self\n",
    "    \n",
    "    def add_members(self, *guests):\n",
    "        self.guests.extend(guests)\n",
    "        return self\n",
    "\n",
    "# this will work\n",
    "another_party = Party()\n",
    "another_party.add_members('person1', 'person2')\n",
    "print(another_party.guests)"
   ]
  },
  {
   "cell_type": "code",
   "execution_count": 22,
   "metadata": {},
   "outputs": [
    {
     "name": "stdout",
     "output_type": "stream",
     "text": [
      "['person1', 'person2', 'person3', 'person4', 'person5']\n"
     ]
    }
   ],
   "source": [
    "another_party.add_members('person3', 'person4', 'person5')\n",
    "print(another_party.guests)"
   ]
  },
  {
   "cell_type": "code",
   "execution_count": 23,
   "metadata": {},
   "outputs": [
    {
     "name": "stdout",
     "output_type": "stream",
     "text": [
      "['person1', 'person2', 'person3', 'person4', 'person5', 'marx', 'hitler', 'clinton']\n"
     ]
    }
   ],
   "source": [
    "more_people = ['marx', 'hitler', 'clinton']\n",
    "another_party.add_members(*more_people)\n",
    "print(another_party.guests)"
   ]
  },
  {
   "cell_type": "code",
   "execution_count": 25,
   "metadata": {},
   "outputs": [],
   "source": [
    "\"\"\"\n",
    "common pattern:\n",
    "\n",
    "- Singleton Pattern -\n",
    "when only <2 instances of something can exist concurrently\n",
    "\"\"\"\n",
    "\n",
    "class Highlander(object):\n",
    "    _instance = None\n",
    "    \n",
    "    def __init__(self, name):\n",
    "        self.name = name\n",
    "    \n",
    "    @classmethod\n",
    "    def ascend(cls, name):\n",
    "        if not cls._instance:\n",
    "            cls._instance = cls(name)\n",
    "        return cls._instance"
   ]
  },
  {
   "cell_type": "code",
   "execution_count": 26,
   "metadata": {},
   "outputs": [
    {
     "name": "stdout",
     "output_type": "stream",
     "text": [
      "gene\n"
     ]
    }
   ],
   "source": [
    "highlander = Highlander.ascend('gene')\n",
    "print(highlander.name)"
   ]
  },
  {
   "cell_type": "code",
   "execution_count": 30,
   "metadata": {},
   "outputs": [
    {
     "name": "stdout",
     "output_type": "stream",
     "text": [
      "gene\n",
      "True\n"
     ]
    }
   ],
   "source": [
    "new_highlander = Highlander.ascend('chandler')\n",
    "print(new_highlander.name)\n",
    "print(highlander is new_highlander) # THERE CAN BE ONLY ONE"
   ]
  },
  {
   "cell_type": "code",
   "execution_count": 32,
   "metadata": {},
   "outputs": [],
   "source": [
    "class Foo(object):\n",
    "    class_var = 'class_var'\n",
    "    \n",
    "    def __init__(self, instance_var):\n",
    "        self.instance_var = instance_var\n",
    "        \n",
    "    def method(self):\n",
    "        print(f'I have been passed {self}')\n",
    "        print(f'my instance_var is {self.instance_var} and my class_var is {self.class_var}')\n",
    "        \n",
    "    @classmethod\n",
    "    def class_method(cls):\n",
    "        print(f'I have been passed {cls}')\n",
    "        print(f'my class_var is {cls.class_var}')"
   ]
  },
  {
   "cell_type": "code",
   "execution_count": 33,
   "metadata": {},
   "outputs": [],
   "source": [
    "my_foo = Foo('my_instance_var')\n",
    "another_foo = Foo('another_instance_var')"
   ]
  },
  {
   "cell_type": "code",
   "execution_count": 34,
   "metadata": {},
   "outputs": [
    {
     "name": "stdout",
     "output_type": "stream",
     "text": [
      "I have been passed <__main__.Foo object at 0x10b022810>\n",
      "my instance_var is my_instance_var and my class_var is class_var\n",
      "I have been passed <__main__.Foo object at 0x10b0227d0>\n",
      "my instance_var is another_instance_var and my class_var is class_var\n",
      "I have been passed <class '__main__.Foo'>\n",
      "my class_var is class_var\n"
     ]
    }
   ],
   "source": [
    "my_foo.method()\n",
    "another_foo.method()\n",
    "Foo.class_method()"
   ]
  },
  {
   "cell_type": "code",
   "execution_count": 35,
   "metadata": {},
   "outputs": [
    {
     "name": "stdout",
     "output_type": "stream",
     "text": [
      "I have been passed <__main__.Foo object at 0x10b022810>\n",
      "my instance_var is my_instance_var and my class_var is changed\n",
      "I have been passed <__main__.Foo object at 0x10b0227d0>\n",
      "my instance_var is another_instance_var and my class_var is changed\n",
      "I have been passed <class '__main__.Foo'>\n",
      "my class_var is changed\n"
     ]
    }
   ],
   "source": [
    "Foo.class_var = 'changed'\n",
    "my_foo.method()\n",
    "another_foo.method()\n",
    "Foo.class_method()"
   ]
  },
  {
   "cell_type": "code",
   "execution_count": 38,
   "metadata": {},
   "outputs": [],
   "source": [
    "\"\"\"\n",
    "common pattern:\n",
    "\n",
    "- Factory Pattern -\n",
    "a function or classmethod which is used to build other instances\n",
    "\"\"\"\n",
    "\n",
    "class Formatter(object):\n",
    "    def __init__(self, data):\n",
    "        self.data = data\n",
    "    \n",
    "    def format(self):\n",
    "        raise NotImplementedError\n",
    "        \n",
    "    # This is the \"factory\" - given data, it gives us an instance of a Formatter subclass\n",
    "    @classmethod\n",
    "    def get(cls, data):\n",
    "        if isinstance(data, str):\n",
    "            return StringFormatter(data)\n",
    "        elif isinstance(data, int):\n",
    "            return IntFormatter(data)\n",
    "        elif isinstance(data, float):\n",
    "            return FloatFormatter(data)\n",
    "        else:\n",
    "            raise Exception(f'No Appropriate Formatter Found for type {type(data)}')\n",
    "        \n",
    "class StringFormatter(Formatter):\n",
    "    def format(self):\n",
    "        return f'STRING: {self.data}'\n",
    "    \n",
    "class IntFormatter(Formatter):\n",
    "    def format(self):\n",
    "        return f'INTEGER: {self.data}'\n",
    "    \n",
    "class FloatFormatter(Formatter):\n",
    "    def format(self):\n",
    "        return f'FLOAT: {self.data}'"
   ]
  },
  {
   "cell_type": "code",
   "execution_count": 39,
   "metadata": {},
   "outputs": [
    {
     "data": {
      "text/plain": [
       "'FLOAT: 1.234'"
      ]
     },
     "execution_count": 39,
     "metadata": {},
     "output_type": "execute_result"
    }
   ],
   "source": [
    "f = Formatter.get(1.234)\n",
    "f.format()"
   ]
  },
  {
   "cell_type": "code",
   "execution_count": 40,
   "metadata": {},
   "outputs": [
    {
     "data": {
      "text/plain": [
       "'INTEGER: 69'"
      ]
     },
     "execution_count": 40,
     "metadata": {},
     "output_type": "execute_result"
    }
   ],
   "source": [
    "i = Formatter.get(69)\n",
    "i.format()"
   ]
  },
  {
   "cell_type": "code",
   "execution_count": 41,
   "metadata": {},
   "outputs": [
    {
     "data": {
      "text/plain": [
       "'STRING: sixty nine'"
      ]
     },
     "execution_count": 41,
     "metadata": {},
     "output_type": "execute_result"
    }
   ],
   "source": [
    "s = Formatter.get('sixty nine')\n",
    "s.format()"
   ]
  },
  {
   "cell_type": "code",
   "execution_count": 46,
   "metadata": {},
   "outputs": [
    {
     "data": {
      "text/plain": [
       "(<__main__.FloatFormatter at 0x10b0290d0>,\n",
       " <__main__.IntFormatter at 0x10b02fad0>,\n",
       " <__main__.StringFormatter at 0x10b02fd90>)"
      ]
     },
     "execution_count": 46,
     "metadata": {},
     "output_type": "execute_result"
    }
   ],
   "source": [
    "f, i, s"
   ]
  },
  {
   "cell_type": "code",
   "execution_count": null,
   "metadata": {},
   "outputs": [],
   "source": [
    "# Homework\n",
    "\"\"\"\n",
    "1.\n",
    "design the data structures for a generic deck of playing cards\n",
    "\n",
    "explain how you would subclass the data structures to implement blackjack\n",
    "\n",
    "2, 3, 4.\n",
    "design the thing using object oriented principles\n",
    "\n",
    "the things are:\n",
    "2: jukebox\n",
    "3: parking lot\n",
    "4: online book-reader system\n",
    "\n",
    "Explain the:\n",
    "- Core objects in the system\n",
    "- Relationships between these objects (inheritance, ownership, many=>1, Singleton, etc.)\n",
    "- Methods attached to each object (signatures only - args that are passed & types, plus return type)\n",
    "\"\"\""
   ]
  },
  {
   "cell_type": "code",
   "execution_count": null,
   "metadata": {},
   "outputs": [],
   "source": [
    "# Design and implement a hash table which uses chaining (Linked Lists) to handle collisions\n",
    "\n",
    "class Node(object):\n",
    "    def __init__(self, key, value):\n",
    "        self.key = key\n",
    "        self.value = value\n",
    "        self.next = None    \n",
    "    \n",
    "class KeyNotFoundException(Exception):\n",
    "    pass\n",
    "\n",
    "class HashTable(object):\n",
    "    def __init__(self, table_size=500):\n",
    "        self.table_size = table_size\n",
    "        self.table = [None] * table_size\n",
    "    \n",
    "    def insert(self, key, value):\n",
    "        hashed_key = self.hash(key)\n",
    "        node = Node(key, value)\n",
    "        node.next = self.table[hashed_key]\n",
    "        self.table[hashed_key] = node\n",
    "    \n",
    "    def get(self, key):\n",
    "        hashed_key = self.hash(key)\n",
    "        if self.table[hashed_key] is None:\n",
    "            raise KeyNotFoundException('Key ' + str(key) + ' is not present')\n",
    "        \n",
    "        current = self.table[hashed_key]\n",
    "        while True:\n",
    "            if current.key == key:\n",
    "                return current.value\n",
    "            if current.next is None:\n",
    "                raise KeyNotFoundException('Key ' + str(key) + ' is not present')\n",
    "            current = current.next\n",
    "            \n",
    "    def is_present(self, key):\n",
    "        try:\n",
    "            self.get(key)\n",
    "            return True\n",
    "        except KeyNotFoundException:\n",
    "            return False\n",
    "    \n",
    "    def hash(self, item):\n",
    "        return abs(hash(item)) % self.table_size"
   ]
  }
 ],
 "metadata": {
  "kernelspec": {
   "display_name": "Python 3",
   "language": "python",
   "name": "python3"
  },
  "language_info": {
   "codemirror_mode": {
    "name": "ipython",
    "version": 3
   },
   "file_extension": ".py",
   "mimetype": "text/x-python",
   "name": "python",
   "nbconvert_exporter": "python",
   "pygments_lexer": "ipython3",
   "version": "3.7.4"
  }
 },
 "nbformat": 4,
 "nbformat_minor": 4
}
