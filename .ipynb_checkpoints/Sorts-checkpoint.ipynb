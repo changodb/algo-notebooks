{
 "cells": [
  {
   "cell_type": "code",
   "execution_count": 9,
   "metadata": {},
   "outputs": [],
   "source": [
    "# Simple array reversal\n",
    "\n",
    "def rever(arr):\n",
    "    for i in range(int((len(arr) - 1) / 2)):\n",
    "        buff = arr[i]\n",
    "        arr[i] = arr[len(arr) - 1 - i]\n",
    "        arr[len(arr) - 1 - i] = buff\n",
    "    return arr\n",
    "        "
   ]
  },
  {
   "cell_type": "code",
   "execution_count": 10,
   "metadata": {},
   "outputs": [
    {
     "data": {
      "text/plain": [
       "[4, 3, 2, 1, 0]"
      ]
     },
     "execution_count": 10,
     "metadata": {},
     "output_type": "execute_result"
    }
   ],
   "source": [
    "rever([0,1,2,3,4])"
   ]
  },
  {
   "cell_type": "code",
   "execution_count": 14,
   "metadata": {},
   "outputs": [],
   "source": [
    "## Brute force sort\n",
    "\n",
    "def bubble_sort(l):\n",
    "    sorted_ = True\n",
    "    for i in range(len(l) - 1):\n",
    "        if l[i] > l[i+1]:\n",
    "            buff = l[i]\n",
    "            l[i] = l[i+1]\n",
    "            l[i+1] = buff\n",
    "            sorted_ = False\n",
    "    if not sorted_:\n",
    "        return bubble_sort(l)\n",
    "    else:\n",
    "        return l\n",
    "    \n",
    "# NOT a scalable solution: O(n^2)"
   ]
  },
  {
   "cell_type": "code",
   "execution_count": 15,
   "metadata": {},
   "outputs": [
    {
     "data": {
      "text/plain": [
       "[0, 1, 3, 6, 9]"
      ]
     },
     "execution_count": 15,
     "metadata": {},
     "output_type": "execute_result"
    }
   ],
   "source": [
    "bubble_sort([0,9,3,6,1])"
   ]
  },
  {
   "cell_type": "code",
   "execution_count": 18,
   "metadata": {},
   "outputs": [],
   "source": [
    "# Ideal solutions are typically: O(n log(n))\n",
    "\n",
    "## Merge Sort\n",
    "# Divide array in half, sort each half (using a Merge Sort), merge halves back together\n",
    "\n",
    "### WIP TBD WTF ###"
   ]
  }
 ],
 "metadata": {
  "kernelspec": {
   "display_name": "Python 3",
   "language": "python",
   "name": "python3"
  },
  "language_info": {
   "codemirror_mode": {
    "name": "ipython",
    "version": 3
   },
   "file_extension": ".py",
   "mimetype": "text/x-python",
   "name": "python",
   "nbconvert_exporter": "python",
   "pygments_lexer": "ipython3",
   "version": "3.7.4"
  }
 },
 "nbformat": 4,
 "nbformat_minor": 4
}
