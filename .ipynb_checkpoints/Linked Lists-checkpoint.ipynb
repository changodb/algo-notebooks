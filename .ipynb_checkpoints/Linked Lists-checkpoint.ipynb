{
 "cells": [
  {
   "cell_type": "code",
   "execution_count": 13,
   "metadata": {},
   "outputs": [],
   "source": [
    "## Welcome - you have entered a realm where few dare tread...\n",
    "# LINKED LISTS\n",
    "##\n",
    "\n",
    "\"\"\"\n",
    "array: a series of elements that are one after another\n",
    "in a particular order (contiguous in memory)\n",
    "\n",
    "singly linked list: a chain of elements where each element only knows about the element\n",
    "that immediately follows it\n",
    "\n",
    "doubly linked list: same as single linked list, but each element has knowledge\n",
    "of the preceding element as well as the following element\n",
    "\"\"\"\n",
    "\n",
    "# implement a singly linked list\n",
    "class SinglyLLNode(object):\n",
    "    def __init__(self, data):\n",
    "        self.data = data\n",
    "        self.next = None\n",
    "    def append_to_end(self, data):\n",
    "        end = SinglyLLNode(data)\n",
    "        self.next = end"
   ]
  },
  {
   "cell_type": "code",
   "execution_count": 14,
   "metadata": {},
   "outputs": [
    {
     "ename": "AttributeError",
     "evalue": "'NoneType' object has no attribute 'data'",
     "output_type": "error",
     "traceback": [
      "\u001b[0;31m---------------------------------------------------------------------------\u001b[0m",
      "\u001b[0;31mAttributeError\u001b[0m                            Traceback (most recent call last)",
      "\u001b[0;32m<ipython-input-14-0ca1eb360698>\u001b[0m in \u001b[0;36m<module>\u001b[0;34m\u001b[0m\n\u001b[1;32m      3\u001b[0m \u001b[0mfoo\u001b[0m\u001b[0;34m.\u001b[0m\u001b[0mappend_to_end\u001b[0m\u001b[0;34m(\u001b[0m\u001b[0;34m'fizz'\u001b[0m\u001b[0;34m)\u001b[0m\u001b[0;34m\u001b[0m\u001b[0;34m\u001b[0m\u001b[0m\n\u001b[1;32m      4\u001b[0m \u001b[0;34m\u001b[0m\u001b[0m\n\u001b[0;32m----> 5\u001b[0;31m \u001b[0mfoo\u001b[0m\u001b[0;34m.\u001b[0m\u001b[0mdata\u001b[0m\u001b[0;34m,\u001b[0m \u001b[0mfoo\u001b[0m\u001b[0;34m.\u001b[0m\u001b[0mnext\u001b[0m\u001b[0;34m.\u001b[0m\u001b[0mdata\u001b[0m\u001b[0;34m,\u001b[0m \u001b[0mfoo\u001b[0m\u001b[0;34m.\u001b[0m\u001b[0mnext\u001b[0m\u001b[0;34m.\u001b[0m\u001b[0mnext\u001b[0m\u001b[0;34m.\u001b[0m\u001b[0mdata\u001b[0m\u001b[0;34m\u001b[0m\u001b[0;34m\u001b[0m\u001b[0m\n\u001b[0m",
      "\u001b[0;31mAttributeError\u001b[0m: 'NoneType' object has no attribute 'data'"
     ]
    }
   ],
   "source": [
    "foo = SinglyLLNode('foo')\n",
    "foo.append_to_end('bar')\n",
    "foo.append_to_end('fizz')\n",
    "\n",
    "foo.data, foo.next.data, foo.next.next.data"
   ]
  },
  {
   "cell_type": "code",
   "execution_count": 15,
   "metadata": {},
   "outputs": [],
   "source": [
    "# implement a singly linked list\n",
    "class SinglyLLNode(object):\n",
    "    def __init__(self, data):\n",
    "        self.data = data\n",
    "        self.next = None\n",
    "    def append_to_end(self, data):\n",
    "        end = SinglyLLNode(data)\n",
    "        current = self\n",
    "        while current.next is not None:\n",
    "            current = current.next\n",
    "        current.next = end"
   ]
  },
  {
   "cell_type": "code",
   "execution_count": 16,
   "metadata": {},
   "outputs": [
    {
     "data": {
      "text/plain": [
       "('foo', 'bar', 'fizz')"
      ]
     },
     "execution_count": 16,
     "metadata": {},
     "output_type": "execute_result"
    }
   ],
   "source": [
    "foo = SinglyLLNode('foo')\n",
    "foo.append_to_end('bar')\n",
    "foo.append_to_end('fizz')\n",
    "\n",
    "foo.data, foo.next.data, foo.next.next.data"
   ]
  },
  {
   "cell_type": "code",
   "execution_count": 39,
   "metadata": {},
   "outputs": [],
   "source": [
    "# problem: prepeding (and appending - if you have a ref to the last element) is O(1),\n",
    "# but accessing/appending/inserting/deleting an arbitrary element is O(n),\n",
    "# b/c iteration is necessary (up to the specified element)\n",
    "## i.e. in order to find the kth element of a list, you must iterate through k elements\n",
    "\n",
    "# doubly-linked lists allow you traverse the list in either direction\n",
    "# at the expense of marginally higher memory cost\n",
    "## linked lists are ideal for queues and dequeues,\n",
    "## as well as other applications that require constant time (O(n))\n",
    "## insertions or deletions from either end\n",
    "\n",
    "class DoublyLLNode(object):\n",
    "    def __init__(self, data):\n",
    "        self.data = data\n",
    "        self.next = None\n",
    "        self.prev = None\n",
    "    def append_to_end(self, data):\n",
    "        end = DoublyLLNode(data)\n",
    "        current = self\n",
    "        while current.next is not None:\n",
    "            current = current.next\n",
    "        current.next = end\n",
    "        end.prev = current\n",
    "    def delete(self):\n",
    "        if self.prev:\n",
    "            self.prev.next = self.next\n",
    "        if self.next:\n",
    "            self.next.prev = self.prev"
   ]
  },
  {
   "cell_type": "code",
   "execution_count": 40,
   "metadata": {},
   "outputs": [
    {
     "data": {
      "text/plain": [
       "('foo', 'bar', 'foo', 'fizz')"
      ]
     },
     "execution_count": 40,
     "metadata": {},
     "output_type": "execute_result"
    }
   ],
   "source": [
    "foo = DoublyLLNode('foo')\n",
    "foo.append_to_end('bar')\n",
    "foo.append_to_end('fizz')\n",
    "\n",
    "foo.data, foo.next.data, foo.next.prev.data, foo.next.next.data"
   ]
  },
  {
   "cell_type": "code",
   "execution_count": 41,
   "metadata": {},
   "outputs": [
    {
     "data": {
      "text/plain": [
       "('foo', 'fizz')"
      ]
     },
     "execution_count": 41,
     "metadata": {},
     "output_type": "execute_result"
    }
   ],
   "source": [
    "to_delete = foo.next  # this is 'bar'\n",
    "to_delete.delete()\n",
    "\n",
    "foo.data, foo.next.data"
   ]
  },
  {
   "cell_type": "code",
   "execution_count": 46,
   "metadata": {},
   "outputs": [],
   "source": [
    "# Exercise time - work those glutes\n",
    "\n",
    "\"\"\"\n",
    "Remove Dupes:\n",
    "\n",
    "write code to remove duplicates from an unsorted linked list\n",
    "\"\"\"\n",
    "\n",
    "def remove_dupes(ll):\n",
    "    words_seen = set()\n",
    "    current = ll\n",
    "    words_seen.add(current.data)\n",
    "    while current.next is not None:\n",
    "        current = current.next\n",
    "        if current.data in words_seen:\n",
    "            current.delete()\n",
    "        else:\n",
    "            words_seen.add(current.data)\n",
    "    return ll"
   ]
  },
  {
   "cell_type": "code",
   "execution_count": 47,
   "metadata": {
    "scrolled": false
   },
   "outputs": [
    {
     "name": "stdout",
     "output_type": "stream",
     "text": [
      "1\n",
      "foo\n",
      "bong\n",
      "dingus\n"
     ]
    }
   ],
   "source": [
    "# Test case\n",
    "\n",
    "head = DoublyLLNode('1')\n",
    "head.append_to_end('foo')\n",
    "head.append_to_end('bong')\n",
    "head.append_to_end('dingus')\n",
    "head.append_to_end('foo')\n",
    "head.append_to_end('1')\n",
    "head.append_to_end('bong')\n",
    "remove_dupes(head)\n",
    "current = head\n",
    "print(current.data)\n",
    "while current.next is not None:\n",
    "    current = current.next\n",
    "    print(current.data)"
   ]
  },
  {
   "cell_type": "code",
   "execution_count": 48,
   "metadata": {},
   "outputs": [],
   "source": [
    "# Delete Middle Node\n",
    "\n",
    "\"\"\"\n",
    "implement an algorithm to delete a node in the middle of a singly linked list\n",
    "given only access to that node\n",
    "- \"middle\" criteria: not first, not last\n",
    "\n",
    "example input: a => b => c => d => e, remove c\n",
    "example output: a => b => d => e\n",
    "\"\"\"\n",
    "\n",
    "def delete_from_linked_list(node):\n",
    "    node.data = node.next.data\n",
    "    node.next = node.next.next\n",
    "    \n",
    "# O(1) - constant time, but this is not so much an algo as a \"trick\""
   ]
  },
  {
   "cell_type": "code",
   "execution_count": 56,
   "metadata": {},
   "outputs": [],
   "source": [
    "# Return kth from last\n",
    "\n",
    "\"\"\"\n",
    "implement an algorithm to find the kth to last element of a singly linked list\n",
    "\"\"\"\n",
    "\n",
    "def kth_from_end(node, from_end):\n",
    "    fast = node\n",
    "    slow = node\n",
    "    for i in range(from_end - 1):\n",
    "        if not fast.next:\n",
    "            return False\n",
    "        fast = fast.next\n",
    "    while fast.next is not None:\n",
    "        slow = slow.next\n",
    "        fast = fast.next\n",
    "    return slow.data\n",
    "\n",
    "# we offset the fast cursor to tell the slow cursor when it should return the data\n",
    "# this solution is O(n) - only requiring one iteration"
   ]
  },
  {
   "cell_type": "code",
   "execution_count": 58,
   "metadata": {},
   "outputs": [
    {
     "data": {
      "text/plain": [
       "'foo'"
      ]
     },
     "execution_count": 58,
     "metadata": {},
     "output_type": "execute_result"
    }
   ],
   "source": [
    "# Test case\n",
    "\"\"\"\n",
    "'1' => 'foo' => 'bong' => 'dingus' => 'foo' => '1' => 'bong'\n",
    "\"\"\"\n",
    "\n",
    "head = SinglyLLNode('1')\n",
    "head.append_to_end('foo')\n",
    "head.append_to_end('bong')\n",
    "head.append_to_end('dingus')\n",
    "head.append_to_end('foo')\n",
    "head.append_to_end('1')\n",
    "head.append_to_end('bong')\n",
    "kth_from_end(head, 3)  # should return 'foo'"
   ]
  },
  {
   "cell_type": "code",
   "execution_count": null,
   "metadata": {},
   "outputs": [],
   "source": []
  }
 ],
 "metadata": {
  "kernelspec": {
   "display_name": "Python 3",
   "language": "python",
   "name": "python3"
  },
  "language_info": {
   "codemirror_mode": {
    "name": "ipython",
    "version": 3
   },
   "file_extension": ".py",
   "mimetype": "text/x-python",
   "name": "python",
   "nbconvert_exporter": "python",
   "pygments_lexer": "ipython3",
   "version": "3.7.4"
  }
 },
 "nbformat": 4,
 "nbformat_minor": 4
}
