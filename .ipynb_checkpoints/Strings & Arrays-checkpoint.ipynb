{
 "cells": [
  {
   "cell_type": "code",
   "execution_count": 11,
   "metadata": {},
   "outputs": [],
   "source": [
    "# Implement an algo to determine if a string has all unique chars\n",
    "\n",
    "def has_unique_chars(s:str):\n",
    "    unique = True\n",
    "    for i in range(len(s) - 1):\n",
    "        if s[i] == s[i+1]:\n",
    "            unique = False\n",
    "    return unique"
   ]
  },
  {
   "cell_type": "code",
   "execution_count": 12,
   "metadata": {},
   "outputs": [
    {
     "data": {
      "text/plain": [
       "True"
      ]
     },
     "execution_count": 12,
     "metadata": {},
     "output_type": "execute_result"
    }
   ],
   "source": [
    "has_unique_chars('isuck')"
   ]
  },
  {
   "cell_type": "code",
   "execution_count": 13,
   "metadata": {},
   "outputs": [
    {
     "data": {
      "text/plain": [
       "False"
      ]
     },
     "execution_count": 13,
     "metadata": {},
     "output_type": "execute_result"
    }
   ],
   "source": [
    "has_unique_chars('issahoe')"
   ]
  },
  {
   "cell_type": "code",
   "execution_count": 16,
   "metadata": {},
   "outputs": [
    {
     "data": {
      "text/plain": [
       "True"
      ]
     },
     "execution_count": 16,
     "metadata": {},
     "output_type": "execute_result"
    }
   ],
   "source": [
    "# This is wrong\n",
    "\n",
    "has_unique_chars('isahoei')"
   ]
  },
  {
   "cell_type": "code",
   "execution_count": 24,
   "metadata": {},
   "outputs": [],
   "source": [
    "# So...\n",
    "\n",
    "def has_unique_chars(s:str):\n",
    "    unique = True\n",
    "    for i in range(len(s) - 1):\n",
    "        for j in range(i+1, len(s)):\n",
    "            if s[i] == s[j]:\n",
    "                unique = False\n",
    "    return unique"
   ]
  },
  {
   "cell_type": "code",
   "execution_count": 25,
   "metadata": {},
   "outputs": [
    {
     "data": {
      "text/plain": [
       "False"
      ]
     },
     "execution_count": 25,
     "metadata": {},
     "output_type": "execute_result"
    }
   ],
   "source": [
    "# This is right\n",
    "\n",
    "has_unique_chars('isahoei')"
   ]
  },
  {
   "cell_type": "code",
   "execution_count": 26,
   "metadata": {},
   "outputs": [
    {
     "data": {
      "text/plain": [
       "False"
      ]
     },
     "execution_count": 26,
     "metadata": {},
     "output_type": "execute_result"
    }
   ],
   "source": [
    "has_unique_chars('poop')"
   ]
  },
  {
   "cell_type": "code",
   "execution_count": 27,
   "metadata": {},
   "outputs": [
    {
     "data": {
      "text/plain": [
       "True"
      ]
     },
     "execution_count": 27,
     "metadata": {},
     "output_type": "execute_result"
    }
   ],
   "source": [
    "has_unique_chars('polar')"
   ]
  },
  {
   "cell_type": "code",
   "execution_count": 29,
   "metadata": {},
   "outputs": [],
   "source": [
    "# one quick optimization - `unique` is not needed - stop as soon as it is False\n",
    "\n",
    "def has_unique_chars(s:str):\n",
    "    for i in range(len(s) - 1):\n",
    "        for j in range(i+1, len(s)):\n",
    "            if s[i] == s[j]:\n",
    "                return False\n",
    "    return True"
   ]
  },
  {
   "cell_type": "code",
   "execution_count": 32,
   "metadata": {},
   "outputs": [],
   "source": [
    "# the above still has a O(n) - O(n^2) complexity - i.e. not good\n",
    "\n",
    "def has_unique_chars(s):\n",
    "    uniques = set()\n",
    "    for c in s:\n",
    "        if c in uniques:\n",
    "            return False\n",
    "        uniques.add(c)\n",
    "    return True\n",
    "\n",
    "# the above runs at O(n) time - much better\n",
    "# we have to iterate through s once (O(n))\n",
    "# inserts and membership tests (`in`) of a set are constant time (O(1))\n",
    "# we only take the most complex big O value, so the overall complexity is O(n)"
   ]
  },
  {
   "cell_type": "code",
   "execution_count": 37,
   "metadata": {},
   "outputs": [],
   "source": [
    "# given two strings...\n",
    "# write a func that decides if one string is a permutation/anagram of the other\n",
    "\n",
    "\n",
    "def is_permutation(s1, s2):\n",
    "    return True"
   ]
  },
  {
   "cell_type": "code",
   "execution_count": 38,
   "metadata": {},
   "outputs": [
    {
     "data": {
      "text/plain": [
       "True"
      ]
     },
     "execution_count": 38,
     "metadata": {},
     "output_type": "execute_result"
    }
   ],
   "source": [
    "is_permutation('abcd', 'dbca')"
   ]
  },
  {
   "cell_type": "code",
   "execution_count": 39,
   "metadata": {},
   "outputs": [
    {
     "data": {
      "text/plain": [
       "True"
      ]
     },
     "execution_count": 39,
     "metadata": {},
     "output_type": "execute_result"
    }
   ],
   "source": [
    "# should be False if the function was written properly\n",
    "is_permutation('abcd', 'dfcg')"
   ]
  },
  {
   "cell_type": "code",
   "execution_count": 46,
   "metadata": {},
   "outputs": [],
   "source": [
    "def is_permutation(s1:str, s2:str):\n",
    "    if len(s1) != len(s2):\n",
    "        return False\n",
    "    \n",
    "    chars_s1 = {}\n",
    "    for c in s1:\n",
    "        if c in chars_s1.keys():\n",
    "            chars_s1[c] += 1\n",
    "        else:\n",
    "            chars_s1[c] = 1\n",
    "    chars_s2 = {}\n",
    "    for c in s2:\n",
    "        if c in chars_s2.keys():\n",
    "            chars_s2[c] += 1\n",
    "        else:\n",
    "            chars_s2[c] = 1\n",
    "            \n",
    "    if chars_s1 == chars_s2:\n",
    "        return True\n",
    "    else:\n",
    "        return False\n",
    "    \n",
    "# average is O(n)\n",
    "# however, it has fewer \"best case scenarios\" (i.e. fewer quick exits)"
   ]
  },
  {
   "cell_type": "code",
   "execution_count": 47,
   "metadata": {},
   "outputs": [
    {
     "data": {
      "text/plain": [
       "True"
      ]
     },
     "execution_count": 47,
     "metadata": {},
     "output_type": "execute_result"
    }
   ],
   "source": [
    "is_permutation('abcd', 'dbca')"
   ]
  },
  {
   "cell_type": "code",
   "execution_count": 44,
   "metadata": {},
   "outputs": [
    {
     "data": {
      "text/plain": [
       "False"
      ]
     },
     "execution_count": 44,
     "metadata": {},
     "output_type": "execute_result"
    }
   ],
   "source": [
    "is_permutation('abcd', 'aabcd')"
   ]
  },
  {
   "cell_type": "code",
   "execution_count": 45,
   "metadata": {},
   "outputs": [
    {
     "data": {
      "text/plain": [
       "False"
      ]
     },
     "execution_count": 45,
     "metadata": {},
     "output_type": "execute_result"
    }
   ],
   "source": [
    "is_permutation('aaabcdd', 'abcd')"
   ]
  },
  {
   "cell_type": "code",
   "execution_count": 49,
   "metadata": {},
   "outputs": [],
   "source": [
    "def is_permutation(s1:str, s2:str):\n",
    "    if len(s1) != len(s2):\n",
    "        return False\n",
    "    \n",
    "    chars_s1 = {}\n",
    "    for c in s1:\n",
    "        if c in chars_s1.keys():\n",
    "            chars_s1[c] += 1\n",
    "        else:\n",
    "            chars_s1[c] = 1\n",
    "    for c in s2:\n",
    "        if c in chars_s1.keys():\n",
    "            chars_s1[c] -= 1\n",
    "            if chars_s1 < 0:\n",
    "                return False\n",
    "        else:\n",
    "            return False\n",
    "    for value in chars_s1.values():\n",
    "        if value != 0:\n",
    "            return False\n",
    "\n",
    "    return True\n",
    "\n",
    "# average is also O(n)\n",
    "# however, there are more quick exits, ensuring the function does not\n",
    "# run for longer than absolutely necessary"
   ]
  },
  {
   "cell_type": "code",
   "execution_count": 56,
   "metadata": {},
   "outputs": [],
   "source": [
    "\"\"\"\n",
    "write a function to replace all spaces in a string with '%20'\n",
    "without changing the length of the string\n",
    "you may assume that the string has sufficient space at the end\n",
    "to hold additional characters AND\n",
    "you are given the true length of the string\n",
    "\n",
    "example input: 'Mr John Smith    ', 13\n",
    "example output: 'Mr%20John%20Smith'\n",
    "\"\"\"\n",
    "\n",
    "\n",
    "def in_place_replace(s, length):\n",
    "    full_length = len(s)\n",
    "    for i in range(length - 1, -1, -1):\n",
    "        print(s[i])"
   ]
  },
  {
   "cell_type": "code",
   "execution_count": 57,
   "metadata": {},
   "outputs": [
    {
     "name": "stdout",
     "output_type": "stream",
     "text": [
      "h\n",
      "t\n",
      "i\n",
      "m\n",
      "S\n",
      " \n",
      "n\n",
      "h\n",
      "o\n",
      "J\n",
      " \n",
      "r\n",
      "M\n"
     ]
    }
   ],
   "source": [
    "in_place_replace('Mr John Smith    ', 13)"
   ]
  },
  {
   "cell_type": "code",
   "execution_count": 63,
   "metadata": {},
   "outputs": [],
   "source": [
    "def in_place_replace(s, length):\n",
    "    s = list(s)  # we only need to do this in python - other languages treat strs as lists\n",
    "    full_length_counter = len(s) - 1\n",
    "    for i in range(length - 1, -1, -1):\n",
    "        if s[i] != ' ':\n",
    "            s[full_length_counter] = s[i]\n",
    "            full_length_counter -= 1\n",
    "        else:\n",
    "            s[full_length_counter] = '0'\n",
    "            s[full_length_counter - 1] = '2'\n",
    "            s[full_length_counter - 2] = '%'\n",
    "            full_length_counter = full_length_counter - 3\n",
    "    return ''.join(s)\n",
    "\n",
    "# we have to iterate twice:\n",
    "# once with the len(s) call, AND\n",
    "# again for the 'for' loop\n",
    "\n",
    "# this makes complexity O(2n) == O(n)"
   ]
  },
  {
   "cell_type": "code",
   "execution_count": 64,
   "metadata": {},
   "outputs": [
    {
     "data": {
      "text/plain": [
       "'Mr%20John%20Smith'"
      ]
     },
     "execution_count": 64,
     "metadata": {},
     "output_type": "execute_result"
    }
   ],
   "source": [
    "in_place_replace('Mr John Smith    ', 13)"
   ]
  },
  {
   "cell_type": "code",
   "execution_count": 66,
   "metadata": {},
   "outputs": [
    {
     "data": {
      "text/plain": [
       "'\\nproper array definition:\\n\\na container data type with a fixed length\\nwhose elements must all be of the same type, known when it is declared\\n'"
      ]
     },
     "execution_count": 66,
     "metadata": {},
     "output_type": "execute_result"
    }
   ],
   "source": [
    "\"\"\"\n",
    "proper array definition:\n",
    "\n",
    "a container data type with a fixed length\n",
    "whose elements must all be of the same type, known when it is declared\n",
    "\"\"\""
   ]
  },
  {
   "cell_type": "code",
   "execution_count": 94,
   "metadata": {},
   "outputs": [],
   "source": [
    "\"\"\"\n",
    "palindrome permutation\n",
    "\n",
    "given a string write a function to check if it is a permutation of a palindrome\n",
    "a palindrome is a word or phrase that is the same forwards and backwards\n",
    "a permutation is a rearrangement of letters\n",
    "the palindrome does not need to be limited to just dictionary words\n",
    "\n",
    "example input: 'Tact Coa'\n",
    "example output: True (permutations are: 'tacocat', 'atcocta', etc.)\n",
    "\n",
    "example input: 'Popo'\n",
    "example output: True (permutations are: 'poop', 'oppo') \n",
    "\"\"\"\n",
    "\n",
    "def is_palindrome_permutation(s):\n",
    "    s = s.replace(' ', '').lower()\n",
    "    length = len(s)\n",
    "    char_freq = {}\n",
    "    if length == 0:\n",
    "        return False\n",
    "    else:\n",
    "        for c in s:\n",
    "            if not c in char_freq:\n",
    "                char_freq[c] = 1\n",
    "            else:\n",
    "                char_freq[c] = char_freq[c] + 1\n",
    "\n",
    "    if length % 2 == 0:\n",
    "        for char in char_freq.keys():\n",
    "            if char_freq[char] % 2 != 0:\n",
    "                return False\n",
    "        return True\n",
    "    else:\n",
    "        odd_freq_counter = 0\n",
    "        for char in char_freq.keys():\n",
    "            if char_freq[char] % 2 != 0:\n",
    "                odd_freq_counter += 1\n",
    "        if odd_freq_counter > 1:\n",
    "            return False\n",
    "        return True\n",
    "\n",
    "# The complexity of this function is O(5n) == O(n) (linear scaling)"
   ]
  },
  {
   "cell_type": "code",
   "execution_count": 95,
   "metadata": {},
   "outputs": [
    {
     "data": {
      "text/plain": [
       "True"
      ]
     },
     "execution_count": 95,
     "metadata": {},
     "output_type": "execute_result"
    }
   ],
   "source": [
    "is_palindrome_permutation('Tact Coa')"
   ]
  },
  {
   "cell_type": "code",
   "execution_count": 96,
   "metadata": {},
   "outputs": [
    {
     "data": {
      "text/plain": [
       "True"
      ]
     },
     "execution_count": 96,
     "metadata": {},
     "output_type": "execute_result"
    }
   ],
   "source": [
    "is_palindrome_permutation('Popo')"
   ]
  },
  {
   "cell_type": "code",
   "execution_count": 97,
   "metadata": {},
   "outputs": [
    {
     "data": {
      "text/plain": [
       "False"
      ]
     },
     "execution_count": 97,
     "metadata": {},
     "output_type": "execute_result"
    }
   ],
   "source": [
    "is_palindrome_permutation('argue')"
   ]
  },
  {
   "cell_type": "code",
   "execution_count": 98,
   "metadata": {},
   "outputs": [
    {
     "data": {
      "text/plain": [
       "False"
      ]
     },
     "execution_count": 98,
     "metadata": {},
     "output_type": "execute_result"
    }
   ],
   "source": [
    "is_palindrome_permutation('argu')"
   ]
  },
  {
   "cell_type": "code",
   "execution_count": 106,
   "metadata": {},
   "outputs": [],
   "source": [
    "# let's optimize\n",
    "\n",
    "def is_palindrome_permutation(s):\n",
    "    char_freq = {}\n",
    "    if not s:           # empty string handling\n",
    "        return False    # assumes an empty string is not a palindrome\n",
    "    else:\n",
    "        for c in s:\n",
    "            c = c.lower()\n",
    "            if c == ' ':\n",
    "                continue\n",
    "            if not c in char_freq:\n",
    "                char_freq[c] = 1\n",
    "            else:\n",
    "                char_freq[c] = char_freq[c] + 1\n",
    "\n",
    "    has_an_odd = False\n",
    "    for freq in char_freq.values():\n",
    "        if freq % 2 != 0:\n",
    "            if has_an_odd:\n",
    "                return False\n",
    "            else:\n",
    "                has_an_odd = True\n",
    "    return True\n",
    "\n",
    "# complexity here is O(2n) == O(n), but we're optimizing for brownie points"
   ]
  },
  {
   "cell_type": "code",
   "execution_count": 107,
   "metadata": {},
   "outputs": [
    {
     "data": {
      "text/plain": [
       "True"
      ]
     },
     "execution_count": 107,
     "metadata": {},
     "output_type": "execute_result"
    }
   ],
   "source": [
    "is_palindrome_permutation('Tact Coa')"
   ]
  },
  {
   "cell_type": "code",
   "execution_count": 108,
   "metadata": {},
   "outputs": [
    {
     "data": {
      "text/plain": [
       "True"
      ]
     },
     "execution_count": 108,
     "metadata": {},
     "output_type": "execute_result"
    }
   ],
   "source": [
    "is_palindrome_permutation('Popo')"
   ]
  },
  {
   "cell_type": "code",
   "execution_count": 109,
   "metadata": {},
   "outputs": [
    {
     "data": {
      "text/plain": [
       "False"
      ]
     },
     "execution_count": 109,
     "metadata": {},
     "output_type": "execute_result"
    }
   ],
   "source": [
    "is_palindrome_permutation('argue')"
   ]
  },
  {
   "cell_type": "code",
   "execution_count": 110,
   "metadata": {},
   "outputs": [
    {
     "data": {
      "text/plain": [
       "False"
      ]
     },
     "execution_count": 110,
     "metadata": {},
     "output_type": "execute_result"
    }
   ],
   "source": [
    "is_palindrome_permutation('argu')"
   ]
  },
  {
   "cell_type": "code",
   "execution_count": 160,
   "metadata": {},
   "outputs": [],
   "source": [
    "# \"one away\"\n",
    "\"\"\"\n",
    "there are 3 types of edits that can be performed on strings:\n",
    "1. insert\n",
    "2. replace\n",
    "3. remove\n",
    "\n",
    "given 2 strings, write a function to determine if they are\n",
    "either 0 or 1 edits away from each other\n",
    "\n",
    "example input: 'pale', 'ple'\n",
    "example output: True\n",
    "\n",
    "example input: 'pale', 'pales'\n",
    "example output: True\n",
    "\n",
    "example input: 'pale', 'bale'\n",
    "example output: True\n",
    "\n",
    "example input: 'pale', 'bake'\n",
    "example output: False\n",
    "\"\"\"\n",
    "\n",
    "def one_away(s1:str, s2:str):\n",
    "    if abs(len(s1) - len(s2)) > 1:\n",
    "        return False\n",
    "    if s1 == s2:\n",
    "        return True\n",
    "    diff_counter = 0\n",
    "    long_s = max(s1, s2, key=len)\n",
    "    short_s = min(s1, s2, key=len)\n",
    "    if short_s == long_s:\n",
    "        long_s = s1\n",
    "        short_s = s2\n",
    "    for idx, c in enumerate(long_s):\n",
    "        try:\n",
    "            if c == short_s[idx]:\n",
    "                print(f'c: {c}')\n",
    "                print(f'short_s[idx]: {short_s[idx]}')\n",
    "                continue\n",
    "            else:\n",
    "                diff_counter += 1\n",
    "                print('incremented diff_counter due to letter mismatch')\n",
    "                print(diff_counter)\n",
    "        except IndexError:\n",
    "            diff_counter += 1\n",
    "            print('incremented diff_counter due to IndexError')\n",
    "    print(diff_counter)\n",
    "    if diff_counter > 1:\n",
    "        return False\n",
    "    else:\n",
    "        return True\n",
    "    \n",
    "# complexity is O(5n + 5m) ~= O(10n) ~= O(n)\n",
    "# because we know that n and m differ in length by at most 1"
   ]
  },
  {
   "cell_type": "code",
   "execution_count": 161,
   "metadata": {},
   "outputs": [
    {
     "data": {
      "text/plain": [
       "True"
      ]
     },
     "execution_count": 161,
     "metadata": {},
     "output_type": "execute_result"
    }
   ],
   "source": [
    "one_away('poop', 'poop')"
   ]
  },
  {
   "cell_type": "code",
   "execution_count": 162,
   "metadata": {},
   "outputs": [
    {
     "name": "stdout",
     "output_type": "stream",
     "text": [
      "c: p\n",
      "short_s[idx]: p\n",
      "c: o\n",
      "short_s[idx]: o\n",
      "c: o\n",
      "short_s[idx]: o\n",
      "c: p\n",
      "short_s[idx]: p\n",
      "incremented diff_counter due to IndexError\n",
      "1\n"
     ]
    },
    {
     "data": {
      "text/plain": [
       "True"
      ]
     },
     "execution_count": 162,
     "metadata": {},
     "output_type": "execute_result"
    }
   ],
   "source": [
    "one_away('poop', 'poops')"
   ]
  },
  {
   "cell_type": "code",
   "execution_count": 163,
   "metadata": {},
   "outputs": [
    {
     "data": {
      "text/plain": [
       "False"
      ]
     },
     "execution_count": 163,
     "metadata": {},
     "output_type": "execute_result"
    }
   ],
   "source": [
    "one_away('poop', 'pooper')"
   ]
  },
  {
   "cell_type": "code",
   "execution_count": 164,
   "metadata": {},
   "outputs": [
    {
     "name": "stdout",
     "output_type": "stream",
     "text": [
      "c: p\n",
      "short_s[idx]: p\n",
      "incremented diff_counter due to letter mismatch\n",
      "1\n",
      "incremented diff_counter due to letter mismatch\n",
      "2\n",
      "c: p\n",
      "short_s[idx]: p\n",
      "incremented diff_counter due to IndexError\n",
      "3\n"
     ]
    },
    {
     "data": {
      "text/plain": [
       "False"
      ]
     },
     "execution_count": 164,
     "metadata": {},
     "output_type": "execute_result"
    }
   ],
   "source": [
    "one_away('poop', 'pimps')"
   ]
  },
  {
   "cell_type": "code",
   "execution_count": 165,
   "metadata": {},
   "outputs": [
    {
     "name": "stdout",
     "output_type": "stream",
     "text": [
      "c: p\n",
      "short_s[idx]: p\n",
      "incremented diff_counter due to letter mismatch\n",
      "1\n",
      "incremented diff_counter due to letter mismatch\n",
      "2\n",
      "c: p\n",
      "short_s[idx]: p\n",
      "2\n"
     ]
    },
    {
     "data": {
      "text/plain": [
       "False"
      ]
     },
     "execution_count": 165,
     "metadata": {},
     "output_type": "execute_result"
    }
   ],
   "source": [
    "one_away('poop', 'pimp') "
   ]
  },
  {
   "cell_type": "code",
   "execution_count": 184,
   "metadata": {},
   "outputs": [],
   "source": [
    "# optimize\n",
    "\n",
    "def is_replace(s1, s2):\n",
    "    edits = 0\n",
    "    for i in range(len(s1)):\n",
    "        if s1[i] != s2[i]:\n",
    "            edits += 1\n",
    "    return edits < 2\n",
    "\n",
    "def is_insert(short_s, long_s):\n",
    "    idx_short_s = 0\n",
    "    idx_long_s = 0\n",
    "    while idx_short_s < len(short_s) and idx_long_s < len(long_s):\n",
    "        if short_s[idx_short_s] != long_s[idx_long_s]:\n",
    "            if idx_short_s != idx_long_s:\n",
    "                return False\n",
    "            else:\n",
    "                idx_long_s += 1\n",
    "        else:\n",
    "            idx_long_s += 1\n",
    "            idx_short_s += 1\n",
    "    return True\n",
    "\n",
    "def one_away(s1:str, s2:str):\n",
    "    if len(s1) == len(s2):\n",
    "        return is_replace(s1, s2)\n",
    "    elif len(s1) + 1 == len(s2):\n",
    "        return is_insert(s2, s1)\n",
    "    elif len(s2) + 1 == len(s1):\n",
    "        return is_insert(s1, s2)\n",
    "    else:\n",
    "        return False\n",
    "    \n",
    "# complexity is pure O(max(n, m)) ~= O(n)"
   ]
  },
  {
   "cell_type": "code",
   "execution_count": 185,
   "metadata": {},
   "outputs": [
    {
     "data": {
      "text/plain": [
       "True"
      ]
     },
     "execution_count": 185,
     "metadata": {},
     "output_type": "execute_result"
    }
   ],
   "source": [
    "one_away('poop', 'poop')"
   ]
  },
  {
   "cell_type": "code",
   "execution_count": 186,
   "metadata": {},
   "outputs": [
    {
     "data": {
      "text/plain": [
       "True"
      ]
     },
     "execution_count": 186,
     "metadata": {},
     "output_type": "execute_result"
    }
   ],
   "source": [
    "one_away('poop', 'poops')"
   ]
  },
  {
   "cell_type": "code",
   "execution_count": 187,
   "metadata": {},
   "outputs": [
    {
     "data": {
      "text/plain": [
       "False"
      ]
     },
     "execution_count": 187,
     "metadata": {},
     "output_type": "execute_result"
    }
   ],
   "source": [
    "one_away('poop', 'pooper')"
   ]
  },
  {
   "cell_type": "code",
   "execution_count": 188,
   "metadata": {},
   "outputs": [
    {
     "data": {
      "text/plain": [
       "False"
      ]
     },
     "execution_count": 188,
     "metadata": {},
     "output_type": "execute_result"
    }
   ],
   "source": [
    "one_away('poop', 'pimps')"
   ]
  },
  {
   "cell_type": "code",
   "execution_count": 189,
   "metadata": {},
   "outputs": [
    {
     "data": {
      "text/plain": [
       "False"
      ]
     },
     "execution_count": 189,
     "metadata": {},
     "output_type": "execute_result"
    }
   ],
   "source": [
    "one_away('poop', 'pimp')"
   ]
  },
  {
   "cell_type": "code",
   "execution_count": 230,
   "metadata": {},
   "outputs": [],
   "source": [
    "# string compression\n",
    "\"\"\"\n",
    "implement a method to perform basic string compression using the counts of repeated characters.\n",
    "\n",
    "example input: aabcccccaaa\n",
    "example output: a2b1c5a3\n",
    "if the \"compressed\" string would not become smaller than the original string, your method should return the original string.\n",
    "you can assume the string only has uppercase and lowercase letters (A-Z, a-z)\n",
    "\"\"\"\n",
    "\n",
    "def compress_string(s:str):\n",
    "    counter = 1\n",
    "    comp_string = ''\n",
    "    for l in s:\n",
    "        if not comp_string:\n",
    "            comp_string += l\n",
    "            last_l = l\n",
    "        else:\n",
    "            if l == last_l:\n",
    "                counter += 1\n",
    "            else:\n",
    "                comp_string += str(counter)\n",
    "                comp_string += l\n",
    "                counter = 1\n",
    "                last_l = l\n",
    "    comp_string += str(counter)\n",
    "    return comp_string\n",
    "                \n",
    "            \n",
    "# complexity: O(n^2)"
   ]
  },
  {
   "cell_type": "code",
   "execution_count": 231,
   "metadata": {},
   "outputs": [
    {
     "data": {
      "text/plain": [
       "'p1e2w1e2'"
      ]
     },
     "execution_count": 231,
     "metadata": {},
     "output_type": "execute_result"
    }
   ],
   "source": [
    "compress_string('peewee')"
   ]
  },
  {
   "cell_type": "code",
   "execution_count": 241,
   "metadata": {},
   "outputs": [],
   "source": [
    "# cleaner version, same complexity\n",
    "\n",
    "def compress_string(s:str):\n",
    "    comp_string = ''\n",
    "    last_val = ''\n",
    "    counter = 1\n",
    "    \n",
    "    for char in s:\n",
    "        if char == last_val:\n",
    "            counter += 1\n",
    "        else:\n",
    "            if last_val:\n",
    "                comp_string += last_val\n",
    "                comp_string += str(counter)\n",
    "            counter = 1\n",
    "            last_val = char\n",
    "    comp_string += last_val + str(counter)\n",
    "    return comp_string"
   ]
  },
  {
   "cell_type": "code",
   "execution_count": 242,
   "metadata": {},
   "outputs": [
    {
     "data": {
      "text/plain": [
       "'p1e2w1e2'"
      ]
     },
     "execution_count": 242,
     "metadata": {},
     "output_type": "execute_result"
    }
   ],
   "source": [
    "compress_string('peewee')"
   ]
  },
  {
   "cell_type": "code",
   "execution_count": 251,
   "metadata": {},
   "outputs": [],
   "source": [
    "# optimize\n",
    "\n",
    "def compress_string(s:str):\n",
    "    compressed = []\n",
    "    last_val = ''\n",
    "    counter = 1\n",
    "    \n",
    "    for char in s:\n",
    "        if char == last_val:\n",
    "            counter += 1\n",
    "        else:\n",
    "            if last_val:\n",
    "                compressed.append(last_val)\n",
    "                compressed.append(str(counter))\n",
    "            counter = 1\n",
    "            last_val = char\n",
    "    compressed.append(last_val + str(counter))\n",
    "    return ''.join(compressed)\n",
    "\n",
    "# complexity is O(2n) ~= O(n). This is due to the O(1) insert/remove time for lists\n",
    "# as compared to O(n) resize time for strings/arrays"
   ]
  },
  {
   "cell_type": "code",
   "execution_count": 252,
   "metadata": {},
   "outputs": [
    {
     "data": {
      "text/plain": [
       "'p1e2w1e2'"
      ]
     },
     "execution_count": 252,
     "metadata": {},
     "output_type": "execute_result"
    }
   ],
   "source": [
    "compress_string('peewee')"
   ]
  }
 ],
 "metadata": {
  "kernelspec": {
   "display_name": "Python 3",
   "language": "python",
   "name": "python3"
  },
  "language_info": {
   "codemirror_mode": {
    "name": "ipython",
    "version": 3
   },
   "file_extension": ".py",
   "mimetype": "text/x-python",
   "name": "python",
   "nbconvert_exporter": "python",
   "pygments_lexer": "ipython3",
   "version": "3.7.4"
  }
 },
 "nbformat": 4,
 "nbformat_minor": 4
}
