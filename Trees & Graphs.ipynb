{
 "cells": [
  {
   "cell_type": "code",
   "execution_count": 1,
   "metadata": {},
   "outputs": [
    {
     "data": {
      "text/plain": [
       "\"\\na tree is a data structure composed of nodes\\neach tree has a root node\\nthe root node has 0 or more child nodes\\neach child node has 0 or more child nodes\\n\\ntrees cannot contain 'cycles' - i.e. a node cannot be its own ancestor\\nhowever, the nodes may or may not be in a particular order\\nthey can have values of any data type\\nand they may or may not have links back to their parent nodes\\n\""
      ]
     },
     "execution_count": 1,
     "metadata": {},
     "output_type": "execute_result"
    }
   ],
   "source": [
    "## SMOKIN TREES\n",
    "\"\"\"\n",
    "a tree is a data structure composed of nodes\n",
    "each tree has a root node\n",
    "the root node has 0 or more child nodes\n",
    "each child node has 0 or more child nodes\n",
    "\n",
    "trees cannot contain 'cycles' - i.e. a node cannot be its own ancestor\n",
    "however, the nodes may or may not be in a particular order\n",
    "they can have values of any data type\n",
    "and they may or may not have links back to their parent nodes\n",
    "\"\"\""
   ]
  },
  {
   "cell_type": "code",
   "execution_count": 3,
   "metadata": {},
   "outputs": [],
   "source": [
    "# implement a tree node\n",
    "\n",
    "class Node(object):\n",
    "    def __init__(self, data):\n",
    "        self.data = data\n",
    "        self.children = []    # elements must be of type 'Node'"
   ]
  },
  {
   "cell_type": "code",
   "execution_count": null,
   "metadata": {},
   "outputs": [],
   "source": [
    "\"\"\"\n",
    "here is a perfectly good tree:\n",
    "\n",
    "        root\n",
    "      /  |  \\\n",
    "    sam gene chan\n",
    "    /   /   \\  /   \\\n",
    "   sw  sw  ps sw   ps\n",
    "\n",
    "\"\"\"\n",
    "\n",
    "sams_switch = Node(\"sam's switch\")\n",
    "chans_switch = Node(\"chan's switch\")\n",
    "genes_switch = Node(\"gene's switch\")\n",
    "chans_ps4 = Node(\"chan's ps4\")\n",
    "genes_ps4 = Node(\"gene's ps4\")\n",
    "sam = Node('sam')\n",
    "gene = Node('gene')\n",
    "chan = Node('chan')\n",
    "root = Node('da root')\n",
    "\n",
    "root.children = [\n",
    "    sam,\n",
    "    gene,\n",
    "    chan\n",
    "]\n",
    "\n",
    "sam.children = [sams_switch]\n",
    "chan.children = [chans_switch, chans_ps4]\n",
    "gene.children = [genes_switch, genes_ps4]"
   ]
  },
  {
   "cell_type": "code",
   "execution_count": 4,
   "metadata": {},
   "outputs": [
    {
     "data": {
      "text/plain": [
       "'\\nBinary Tree\\n\\na binary tree is a tree, each of whose nodes have <= 2 children\\n\\nbinary tree example:\\n             root\\n            /            samler   gene\\n        /    \\\\     |    ridgehaven  dr  16th st\\n'"
      ]
     },
     "execution_count": 4,
     "metadata": {},
     "output_type": "execute_result"
    }
   ],
   "source": [
    "\"\"\"\n",
    "Binary Tree\n",
    "\n",
    "a binary tree is a tree, each of whose nodes have <= 2 children\n",
    "\n",
    "binary tree example:\n",
    "             root\n",
    "            /    \\\n",
    "        samler   gene\n",
    "        /    \\     |  \\\n",
    "  ridgehaven  dr  16th st\n",
    "\"\"\""
   ]
  },
  {
   "cell_type": "code",
   "execution_count": 10,
   "metadata": {},
   "outputs": [
    {
     "data": {
      "text/plain": [
       "'\\nBinary Search Tree\\n\\na binary search tree is a binary tree in which every node\\nfits a very specific ordering property\\n\\nall left-descendants <= n < all right-descendents\\nthis must be true for every node\\n\\nsome definitions differ on whether or not a binary search tree\\ncan contain duplicate values\\n\\nExample: 4-layer binary search tree\\n\\n                   1000\\n            /                       900                   2000\\n       /    \\\\               /          800      920         1800        2200\\n    / \\\\      /  \\\\        /   \\\\      /      700 850   901 999    1700 1801  2100  10000\\n  \\n  \\nwe can efficiently find arbitrary nodes in a binary search tree\\nIF it is well balanced (branch lengths are \"roughly\" equal)\\n\\ntwo common types of well-balanced trees:\\n- red-black trees\\n- avl trees\\n\\n## TODO (for chandler at least):\\n   - read about/implement the above self-balancing tree algorithms\\n\\nas you insert and remove on these types of trees, they keep themselves \"balanced enough\"\\nQ: what is \"balanced enough\"? A: to have O(log n) time for insert, delete, read\\n\\nComplete Binary Trees\\n\\na complete binary tree is a tree in which each level of the tree is fully filled\\nexcept for, perhaps, the last level (leaves)\\nto the extent that the last level is filled, it is filled left to right\\n\\nFull Binary Trees\\n\\na full binary tree is a binary tree in which every node has either 0 or 2 children\\nthat is, no nodes have only 1 child\\n\\nPerfect Binary Trees\\n\\na perfect binary tree is one that is both Full and Complete\\nall leaf nodes will be at the same level, and this level has the maximum number of nodes\\n'"
      ]
     },
     "execution_count": 10,
     "metadata": {},
     "output_type": "execute_result"
    }
   ],
   "source": [
    "\"\"\"\n",
    "Binary Search Tree\n",
    "\n",
    "a binary search tree is a binary tree in which every node\n",
    "fits a very specific ordering property\n",
    "\n",
    "all left-descendants <= n < all right-descendents\n",
    "this must be true for every node\n",
    "\n",
    "some definitions differ on whether or not a binary search tree\n",
    "can contain duplicate values\n",
    "\n",
    "Example: 4-layer binary search tree\n",
    "\n",
    "                   1000\n",
    "            /               \\\n",
    "        900                   2000\n",
    "       /    \\               /      \\\n",
    "    800      920         1800        2200\n",
    "    / \\      /  \\        /   \\      /    \\\n",
    "  700 850   901 999    1700 1801  2100  10000\n",
    "  \n",
    "  \n",
    "we can efficiently find arbitrary nodes in a binary search tree\n",
    "IF it is well balanced (branch lengths are \"roughly\" equal)\n",
    "\n",
    "two common types of well-balanced trees:\n",
    "- red-black trees\n",
    "- avl trees\n",
    "\n",
    "## TODO (for chandler at least):\n",
    "   - read about/implement the above self-balancing tree algorithms\n",
    "\n",
    "as you insert and remove on these types of trees, they keep themselves \"balanced enough\"\n",
    "Q: what is \"balanced enough\"? A: to have O(log n) time for insert, delete, read\n",
    "\n",
    "Complete Binary Trees\n",
    "\n",
    "a complete binary tree is a tree in which each level of the tree is fully filled\n",
    "except for, perhaps, the last level (leaves)\n",
    "to the extent that the last level is filled, it is filled left to right\n",
    "\n",
    "Full Binary Trees\n",
    "\n",
    "a full binary tree is a binary tree in which every node has either 0 or 2 children\n",
    "that is, no nodes have only 1 child\n",
    "\n",
    "Perfect Binary Trees\n",
    "\n",
    "a perfect binary tree is one that is both Full and Complete\n",
    "all leaf nodes will be at the same level, and this level has the maximum number of nodes\n",
    "\"\"\""
   ]
  },
  {
   "cell_type": "code",
   "execution_count": 3,
   "metadata": {},
   "outputs": [],
   "source": [
    "# implement a binary tree\n",
    "\"\"\"\n",
    "reference:\n",
    "                   1000\n",
    "            /               \\\n",
    "        900                   2000\n",
    "       /    \\               /      \\\n",
    "    800      920         1800        2200\n",
    "\"\"\"\n",
    "\n",
    "class Node(object):\n",
    "    def __init__(self, data, left=None, right=None):\n",
    "        self.data = data\n",
    "        self.left = left\n",
    "        self.right = right\n",
    "\n",
    "root = Node(1000,\n",
    "            left=Node(900,\n",
    "                      left=Node(800),\n",
    "                      right=Node(920)\n",
    "                     ),\n",
    "            right=Node(2000,\n",
    "                       left=Node(1800),\n",
    "                       right=Node(2200)\n",
    "                      )\n",
    "           \n",
    "       )\n",
    "\n",
    "\n",
    "# visit the root node last\n",
    "\n",
    "def traverse_root_last(node):\n",
    "    if node.left:\n",
    "        traverse_root_last(node.left)\n",
    "    if node.right:\n",
    "        traverse_root_last(node.right)\n",
    "    # this is our \"visit\"\n",
    "    print(node.data)"
   ]
  },
  {
   "cell_type": "code",
   "execution_count": 4,
   "metadata": {},
   "outputs": [
    {
     "name": "stdout",
     "output_type": "stream",
     "text": [
      "800\n",
      "920\n",
      "900\n",
      "1800\n",
      "2200\n",
      "2000\n",
      "1000\n"
     ]
    }
   ],
   "source": [
    "traverse_root_last(root)"
   ]
  },
  {
   "cell_type": "code",
   "execution_count": 5,
   "metadata": {},
   "outputs": [],
   "source": [
    "def traverse_root_first(node):\n",
    "    # this is our \"visit\"\n",
    "    print(node.data)\n",
    "    if node.left:\n",
    "        traverse_root_first(node.left)\n",
    "    if node.right:\n",
    "        traverse_root_first(node.right)\n",
    "    "
   ]
  },
  {
   "cell_type": "code",
   "execution_count": 6,
   "metadata": {},
   "outputs": [
    {
     "name": "stdout",
     "output_type": "stream",
     "text": [
      "1000\n",
      "900\n",
      "800\n",
      "920\n",
      "2000\n",
      "1800\n",
      "2200\n"
     ]
    }
   ],
   "source": [
    "traverse_root_first(root)"
   ]
  },
  {
   "cell_type": "code",
   "execution_count": 20,
   "metadata": {},
   "outputs": [],
   "source": [
    "def traverse_root_middle(node):\n",
    "    if node.left:\n",
    "        traverse(node.left)\n",
    "    # this is our \"visit\"\n",
    "    print(node.data)\n",
    "    if node.right:\n",
    "        traverse(node.right)"
   ]
  },
  {
   "cell_type": "code",
   "execution_count": 21,
   "metadata": {},
   "outputs": [
    {
     "name": "stdout",
     "output_type": "stream",
     "text": [
      "800\n",
      "920\n",
      "900\n",
      "1000\n",
      "1800\n",
      "2200\n",
      "2000\n"
     ]
    }
   ],
   "source": [
    "traverse_root_middle(root)"
   ]
  },
  {
   "cell_type": "code",
   "execution_count": 22,
   "metadata": {},
   "outputs": [
    {
     "data": {
      "text/plain": [
       "\"\\na special type of tree is a binary heap\\n\\na binary heap is either a 'min-heap' or a 'max-heap'\\n\\nwhat is a heap? a 'pile' of data, typically with some kind of organizational structure\\n\\nmin-heap is a complete binary tree where each node is smaller (<) than its children, so the minimum value is the root\\nit is totally filled other than the rightmost elements in the last level\\n\""
      ]
     },
     "execution_count": 22,
     "metadata": {},
     "output_type": "execute_result"
    }
   ],
   "source": [
    "\"\"\"\n",
    "a special type of tree is a binary heap\n",
    "\n",
    "a binary heap is either a 'min-heap' or a 'max-heap'\n",
    "\n",
    "what is a heap? a 'pile' of data, typically with some kind of organizational structure\n",
    "\n",
    "min-heap is a complete binary tree where each node is smaller (<) than its children,\n",
    "so the minimum value is the root.\n",
    "it is totally filled other than the rightmost elements in the last level\n",
    "\"\"\""
   ]
  },
  {
   "cell_type": "code",
   "execution_count": 23,
   "metadata": {},
   "outputs": [],
   "source": [
    "## GRAPHS\n",
    "\n",
    "\"\"\"\n",
    "trees are a subset of graphs, specifically a tree is a connected graph without cycles\n",
    "\n",
    "a graph is a collection of nodes with edges between some of them\n",
    "\n",
    "an edge is a relationship between two nodes\n",
    "\n",
    "graphs can be directed or undirected\n",
    "if they are directed, then their edges have directions and can be though of as one-way streets between nodes\n",
    "if they are undirected, then the edges are two-way streets\n",
    "\n",
    "the graph might consist of multiple isolated subgraphs\n",
    "if there is a path between every pair of vertices (i.e. nodes)\n",
    "then the graph is considered \"connected\"\n",
    "\n",
    "a graph can have cycles or not\n",
    "\n",
    "an acyclic graph (AG) is a graph without cycles (i.e. a loop)\n",
    "\n",
    "a directed acyclic graph (DAG) is a directed graph without cycles\n",
    "\"\"\"\n",
    "\n",
    "class Node(object):\n",
    "    def __init__(self, data):\n",
    "        self.data = data\n",
    "        self.children = []\n",
    "        \n",
    "class Graph(object):\n",
    "    def __init__(self):\n",
    "        self.nodes = []\n",
    "        \n",
    "# at a very high level, this is how graphs look"
   ]
  },
  {
   "cell_type": "markdown",
   "metadata": {},
   "source": [
    "### adjency matrices\n",
    "\n",
    "an adjecency matrix is an n by n boolean matrix where n is the number of nodes\n",
    "where a True value at matrix[i][j] indicates an edge from node i to node j\n",
    "\n",
    "example:\n",
    "```\n",
    "0  ->   1\n",
    "^       |\n",
    "|       |\n",
    "v       v\n",
    "3  ->   2\n",
    "```\n",
    "\n",
    "how would we represent this in an adjacency matrix?\n",
    "\n",
    "|-|0|1|2|3|\n",
    "|-|-|-|-|-|\n",
    "|0|F|T|F|T|\n",
    "|1|F|F|T|F|\n",
    "|2|F|F|F|F|\n",
    "|3|T|F|T|F|"
   ]
  },
  {
   "cell_type": "markdown",
   "metadata": {},
   "source": [
    "### Depth-first Search\n",
    "\n",
    "recursively drill into each child, visiting its children after that node has been visited"
   ]
  },
  {
   "cell_type": "code",
   "execution_count": 27,
   "metadata": {},
   "outputs": [],
   "source": [
    "class Node(object):\n",
    "    def __init__(self, data):\n",
    "        self.visited = False\n",
    "        self.data = data\n",
    "        self.children = []\n",
    "\n",
    "# depth-first search\n",
    "def dfs(node):\n",
    "    print(f'visited node: {node.data}')\n",
    "    node.visited = True\n",
    "    for child in node.children:\n",
    "        if not child.visited:\n",
    "            dfs(child)"
   ]
  },
  {
   "cell_type": "code",
   "execution_count": 28,
   "metadata": {},
   "outputs": [
    {
     "name": "stdout",
     "output_type": "stream",
     "text": [
      "visited node: 100\n",
      "visited node: 10000\n",
      "visited node: 1000000\n",
      "visited node: 1000\n",
      "visited node: 100000\n"
     ]
    }
   ],
   "source": [
    "n1 = Node(100)\n",
    "n2 = Node(1000)\n",
    "n3 = Node(10000)\n",
    "n4 = Node(100000)\n",
    "n5 = Node(1000000)\n",
    "\n",
    "n1.children = [n3, n5]\n",
    "n5.children = [n2, n3]\n",
    "n2.children = [n4]\n",
    "n3.children = [n5, n2]\n",
    "n4.children = [n3, n1]\n",
    "\n",
    "dfs(n1)"
   ]
  },
  {
   "cell_type": "markdown",
   "metadata": {},
   "source": [
    "### Breadth-first search\n",
    "\n",
    "Instead of drilling all the way down each branch one after the other\n",
    "we start at each immediate neighbor of a particular node and after visiting all of those neighbors\n",
    "we start visiting each of those neighbors' neighbors, etc\n",
    "\n",
    "i.e. \"Radiating out\" from a particular node, instead of drilling down"
   ]
  },
  {
   "cell_type": "code",
   "execution_count": 31,
   "metadata": {},
   "outputs": [],
   "source": [
    "from queue import Queue\n",
    "\n",
    "class Node(object):\n",
    "    def __init__(self, data):\n",
    "        self.visited = False\n",
    "        self.data = data\n",
    "        self.children = []\n",
    "\n",
    "# breadth-first search\n",
    "def bfs(node):\n",
    "    q = Queue()\n",
    "    node.visited = True\n",
    "    q.put(node)\n",
    "    while not q.empty():\n",
    "        node = q.get()\n",
    "        print(f'visited node: {node.data}')\n",
    "        for child in node.children:\n",
    "            if not child.visited:\n",
    "                child.visited = True\n",
    "                q.put(child)"
   ]
  },
  {
   "cell_type": "code",
   "execution_count": 32,
   "metadata": {},
   "outputs": [
    {
     "name": "stdout",
     "output_type": "stream",
     "text": [
      "visited node: 100\n",
      "visited node: 10000\n",
      "visited node: 1000000\n",
      "visited node: 1000\n",
      "visited node: 100000\n"
     ]
    }
   ],
   "source": [
    "n1 = Node(100)\n",
    "n2 = Node(1000)\n",
    "n3 = Node(10000)\n",
    "n4 = Node(100000)\n",
    "n5 = Node(1000000)\n",
    "\n",
    "n1.children = [n3, n5]\n",
    "n5.children = [n2, n3]\n",
    "n2.children = [n4]\n",
    "n3.children = [n5, n2]\n",
    "n4.children = [n3, n1]\n",
    "\n",
    "bfs(n1)"
   ]
  },
  {
   "cell_type": "markdown",
   "metadata": {},
   "source": [
    "### bidirectional search\n",
    "\n",
    "bidirectional search is doing a breadth-first search starting from two nodes (start, end)\n",
    "which attempts to find the shortest distance between these nodes"
   ]
  },
  {
   "cell_type": "code",
   "execution_count": 70,
   "metadata": {},
   "outputs": [],
   "source": [
    "from queue import Queue\n",
    "\n",
    "class Node(object):\n",
    "    def __init__(self, data):\n",
    "        self.visited_start = False\n",
    "        self.visited_end = False\n",
    "        self.data = data\n",
    "        self.children = []\n",
    "\n",
    "def bds(start, end):\n",
    "    start_q = Queue()\n",
    "    end_q = Queue()\n",
    "    \n",
    "    start.visited_start = True\n",
    "    end.visited_end = True\n",
    "    \n",
    "    start_q.put(start)\n",
    "    end_q.put(end)\n",
    "    \n",
    "    while not start_q.empty() or not end_q.empty():\n",
    "        if not start_q.empty():\n",
    "            start = start_q.get()\n",
    "            for child in start.children:\n",
    "                if child.visited_end:\n",
    "                    return True\n",
    "                elif not child.visited_start:\n",
    "                    child.visited_start = True\n",
    "                    start_q.put(child)\n",
    "        if not end_q.empty():\n",
    "            end = end_q.get()\n",
    "            for child in end.children:\n",
    "                if child.visited_start:\n",
    "                    return True\n",
    "                elif not child.visited_end:\n",
    "                    child.visited_end = True\n",
    "                    end_q.put(child)\n",
    "    return False"
   ]
  },
  {
   "cell_type": "code",
   "execution_count": 73,
   "metadata": {},
   "outputs": [
    {
     "data": {
      "text/plain": [
       "True"
      ]
     },
     "execution_count": 73,
     "metadata": {},
     "output_type": "execute_result"
    }
   ],
   "source": [
    "n1 = Node(100)\n",
    "n2 = Node(1000)\n",
    "n3 = Node(10000)\n",
    "n4 = Node(100000)\n",
    "n5 = Node(1000000)\n",
    "\n",
    "n1.children = [n3, n5]\n",
    "n5.children = [n3]\n",
    "n2.children = []\n",
    "n3.children = [n5]\n",
    "n4.children = [n3, n1]\n",
    "\n",
    "bds(n1, n3) # should be True"
   ]
  },
  {
   "cell_type": "code",
   "execution_count": 74,
   "metadata": {},
   "outputs": [
    {
     "data": {
      "text/plain": [
       "False"
      ]
     },
     "execution_count": 74,
     "metadata": {},
     "output_type": "execute_result"
    }
   ],
   "source": [
    "n1 = Node(100)\n",
    "n2 = Node(1000)\n",
    "n3 = Node(10000)\n",
    "n4 = Node(100000)\n",
    "n5 = Node(1000000)\n",
    "\n",
    "n1.children = [n3, n5]\n",
    "n5.children = [n3]\n",
    "n2.children = []\n",
    "n3.children = [n5]\n",
    "n4.children = [n3, n1]\n",
    "\n",
    "bds(n1, n2) # should be False"
   ]
  },
  {
   "cell_type": "markdown",
   "metadata": {},
   "source": [
    "### Minimal Tree\n",
    "\n",
    "given a sorted increasing-order array with unique elements,\n",
    "write an algorithm to generate a binary search tree with minimal height"
   ]
  },
  {
   "cell_type": "code",
   "execution_count": 104,
   "metadata": {},
   "outputs": [],
   "source": [
    "class Node(object):\n",
    "    def __init__(self, data, left=None, right=None):\n",
    "        self.data = data\n",
    "        self.left = left\n",
    "        self.right = right\n",
    "\n",
    "def asc_arr_to_min_tree(arr):\n",
    "    if len(arr) == 0:\n",
    "        return None\n",
    "    mid_idx = int(len(arr)/2)\n",
    "    node = Node(arr[mid_idx])\n",
    "    left_arr = arr[:mid_idx]\n",
    "    right_arr = arr[mid_idx+1:]\n",
    "    node.left = asc_arr_to_min_tree(left_arr)\n",
    "    node.right = asc_arr_to_min_tree(right_arr)\n",
    "    \n",
    "    return node\n",
    "        "
   ]
  },
  {
   "cell_type": "code",
   "execution_count": 105,
   "metadata": {},
   "outputs": [],
   "source": [
    "array = [1, 2, 3, 4, 5, 6]"
   ]
  },
  {
   "cell_type": "code",
   "execution_count": 106,
   "metadata": {},
   "outputs": [],
   "source": [
    "root = asc_arr_to_min_tree(array)"
   ]
  },
  {
   "cell_type": "code",
   "execution_count": 107,
   "metadata": {},
   "outputs": [
    {
     "data": {
      "text/plain": [
       "4"
      ]
     },
     "execution_count": 107,
     "metadata": {},
     "output_type": "execute_result"
    }
   ],
   "source": [
    "root.data"
   ]
  },
  {
   "cell_type": "code",
   "execution_count": 108,
   "metadata": {},
   "outputs": [],
   "source": [
    "array = [1, 2, 3, 4, 5, 6, 7]"
   ]
  },
  {
   "cell_type": "code",
   "execution_count": 109,
   "metadata": {},
   "outputs": [],
   "source": [
    "root = asc_arr_to_min_tree(array)"
   ]
  },
  {
   "cell_type": "code",
   "execution_count": 110,
   "metadata": {},
   "outputs": [
    {
     "data": {
      "text/plain": [
       "4"
      ]
     },
     "execution_count": 110,
     "metadata": {},
     "output_type": "execute_result"
    }
   ],
   "source": [
    "root.data"
   ]
  },
  {
   "cell_type": "code",
   "execution_count": 111,
   "metadata": {},
   "outputs": [
    {
     "data": {
      "text/plain": [
       "2"
      ]
     },
     "execution_count": 111,
     "metadata": {},
     "output_type": "execute_result"
    }
   ],
   "source": [
    "root.left.data"
   ]
  },
  {
   "cell_type": "code",
   "execution_count": 112,
   "metadata": {},
   "outputs": [
    {
     "data": {
      "text/plain": [
       "1"
      ]
     },
     "execution_count": 112,
     "metadata": {},
     "output_type": "execute_result"
    }
   ],
   "source": [
    "root.left.left.data"
   ]
  },
  {
   "cell_type": "code",
   "execution_count": 113,
   "metadata": {},
   "outputs": [
    {
     "data": {
      "text/plain": [
       "6"
      ]
     },
     "execution_count": 113,
     "metadata": {},
     "output_type": "execute_result"
    }
   ],
   "source": [
    "root.right.data"
   ]
  },
  {
   "cell_type": "code",
   "execution_count": 114,
   "metadata": {},
   "outputs": [
    {
     "data": {
      "text/plain": [
       "3"
      ]
     },
     "execution_count": 114,
     "metadata": {},
     "output_type": "execute_result"
    }
   ],
   "source": [
    "root.left.right.data"
   ]
  },
  {
   "cell_type": "code",
   "execution_count": 115,
   "metadata": {},
   "outputs": [
    {
     "data": {
      "text/plain": [
       "5"
      ]
     },
     "execution_count": 115,
     "metadata": {},
     "output_type": "execute_result"
    }
   ],
   "source": [
    "root.right.left.data"
   ]
  },
  {
   "cell_type": "code",
   "execution_count": 116,
   "metadata": {},
   "outputs": [
    {
     "data": {
      "text/plain": [
       "7"
      ]
     },
     "execution_count": 116,
     "metadata": {},
     "output_type": "execute_result"
    }
   ],
   "source": [
    "root.right.right.data"
   ]
  },
  {
   "cell_type": "code",
   "execution_count": 117,
   "metadata": {},
   "outputs": [],
   "source": [
    "array = [1, 2, 3, 4, 5, 6]"
   ]
  },
  {
   "cell_type": "code",
   "execution_count": 118,
   "metadata": {},
   "outputs": [],
   "source": [
    "root = asc_arr_to_min_tree(array)"
   ]
  },
  {
   "cell_type": "code",
   "execution_count": 119,
   "metadata": {},
   "outputs": [
    {
     "data": {
      "text/plain": [
       "4"
      ]
     },
     "execution_count": 119,
     "metadata": {},
     "output_type": "execute_result"
    }
   ],
   "source": [
    "root.data"
   ]
  },
  {
   "cell_type": "code",
   "execution_count": 120,
   "metadata": {},
   "outputs": [
    {
     "data": {
      "text/plain": [
       "2"
      ]
     },
     "execution_count": 120,
     "metadata": {},
     "output_type": "execute_result"
    }
   ],
   "source": [
    "root.left.data"
   ]
  },
  {
   "cell_type": "code",
   "execution_count": 121,
   "metadata": {},
   "outputs": [
    {
     "data": {
      "text/plain": [
       "1"
      ]
     },
     "execution_count": 121,
     "metadata": {},
     "output_type": "execute_result"
    }
   ],
   "source": [
    "root.left.left.data"
   ]
  },
  {
   "cell_type": "code",
   "execution_count": 122,
   "metadata": {},
   "outputs": [
    {
     "data": {
      "text/plain": [
       "3"
      ]
     },
     "execution_count": 122,
     "metadata": {},
     "output_type": "execute_result"
    }
   ],
   "source": [
    "root.left.right.data"
   ]
  },
  {
   "cell_type": "code",
   "execution_count": 123,
   "metadata": {},
   "outputs": [
    {
     "data": {
      "text/plain": [
       "6"
      ]
     },
     "execution_count": 123,
     "metadata": {},
     "output_type": "execute_result"
    }
   ],
   "source": [
    "root.right.data"
   ]
  },
  {
   "cell_type": "code",
   "execution_count": 124,
   "metadata": {},
   "outputs": [
    {
     "data": {
      "text/plain": [
       "5"
      ]
     },
     "execution_count": 124,
     "metadata": {},
     "output_type": "execute_result"
    }
   ],
   "source": [
    "root.right.left.data"
   ]
  },
  {
   "cell_type": "code",
   "execution_count": 125,
   "metadata": {},
   "outputs": [
    {
     "ename": "AttributeError",
     "evalue": "'NoneType' object has no attribute 'data'",
     "output_type": "error",
     "traceback": [
      "\u001b[0;31m---------------------------------------------------------------------------\u001b[0m",
      "\u001b[0;31mAttributeError\u001b[0m                            Traceback (most recent call last)",
      "\u001b[0;32m<ipython-input-125-3a4c814e71c6>\u001b[0m in \u001b[0;36m<module>\u001b[0;34m\u001b[0m\n\u001b[0;32m----> 1\u001b[0;31m \u001b[0mroot\u001b[0m\u001b[0;34m.\u001b[0m\u001b[0mright\u001b[0m\u001b[0;34m.\u001b[0m\u001b[0mright\u001b[0m\u001b[0;34m.\u001b[0m\u001b[0mdata\u001b[0m\u001b[0;34m\u001b[0m\u001b[0;34m\u001b[0m\u001b[0m\n\u001b[0m",
      "\u001b[0;31mAttributeError\u001b[0m: 'NoneType' object has no attribute 'data'"
     ]
    }
   ],
   "source": [
    "root.right.right.data"
   ]
  },
  {
   "cell_type": "code",
   "execution_count": 126,
   "metadata": {},
   "outputs": [],
   "source": [
    "array = [1, 2]"
   ]
  },
  {
   "cell_type": "code",
   "execution_count": 127,
   "metadata": {},
   "outputs": [],
   "source": [
    "root = asc_arr_to_min_tree(array)"
   ]
  },
  {
   "cell_type": "code",
   "execution_count": 128,
   "metadata": {},
   "outputs": [
    {
     "data": {
      "text/plain": [
       "2"
      ]
     },
     "execution_count": 128,
     "metadata": {},
     "output_type": "execute_result"
    }
   ],
   "source": [
    "root.data"
   ]
  },
  {
   "cell_type": "code",
   "execution_count": 129,
   "metadata": {},
   "outputs": [
    {
     "data": {
      "text/plain": [
       "1"
      ]
     },
     "execution_count": 129,
     "metadata": {},
     "output_type": "execute_result"
    }
   ],
   "source": [
    "root.left.data"
   ]
  },
  {
   "cell_type": "code",
   "execution_count": 130,
   "metadata": {},
   "outputs": [
    {
     "ename": "AttributeError",
     "evalue": "'NoneType' object has no attribute 'data'",
     "output_type": "error",
     "traceback": [
      "\u001b[0;31m---------------------------------------------------------------------------\u001b[0m",
      "\u001b[0;31mAttributeError\u001b[0m                            Traceback (most recent call last)",
      "\u001b[0;32m<ipython-input-130-956f40bb136e>\u001b[0m in \u001b[0;36m<module>\u001b[0;34m\u001b[0m\n\u001b[0;32m----> 1\u001b[0;31m \u001b[0mroot\u001b[0m\u001b[0;34m.\u001b[0m\u001b[0mright\u001b[0m\u001b[0;34m.\u001b[0m\u001b[0mdata\u001b[0m\u001b[0;34m\u001b[0m\u001b[0;34m\u001b[0m\u001b[0m\n\u001b[0m",
      "\u001b[0;31mAttributeError\u001b[0m: 'NoneType' object has no attribute 'data'"
     ]
    }
   ],
   "source": [
    "root.right.data"
   ]
  },
  {
   "cell_type": "code",
   "execution_count": 131,
   "metadata": {},
   "outputs": [],
   "source": [
    "root.right"
   ]
  },
  {
   "cell_type": "code",
   "execution_count": 132,
   "metadata": {},
   "outputs": [],
   "source": [
    "array = [1]"
   ]
  },
  {
   "cell_type": "code",
   "execution_count": 133,
   "metadata": {},
   "outputs": [],
   "source": [
    "root = asc_arr_to_min_tree(array)"
   ]
  },
  {
   "cell_type": "code",
   "execution_count": 134,
   "metadata": {},
   "outputs": [
    {
     "data": {
      "text/plain": [
       "1"
      ]
     },
     "execution_count": 134,
     "metadata": {},
     "output_type": "execute_result"
    }
   ],
   "source": [
    "root.data"
   ]
  },
  {
   "cell_type": "code",
   "execution_count": 135,
   "metadata": {},
   "outputs": [],
   "source": [
    "root.right"
   ]
  },
  {
   "cell_type": "code",
   "execution_count": 136,
   "metadata": {},
   "outputs": [],
   "source": [
    "root.left"
   ]
  },
  {
   "cell_type": "code",
   "execution_count": 137,
   "metadata": {},
   "outputs": [],
   "source": [
    "### ALGO WIN - GIMME TENDIES ###"
   ]
  },
  {
   "cell_type": "markdown",
   "metadata": {},
   "source": [
    "### List Of Depths"
   ]
  },
  {
   "cell_type": "markdown",
   "metadata": {},
   "source": [
    "Given a Binary Tree, design an algorithm that creates a LL of all nodes at each depth\n",
    "\n",
    "e.g. if you have a tree with depth `d`, you will have `d` linked lists"
   ]
  },
  {
   "cell_type": "code",
   "execution_count": 172,
   "metadata": {},
   "outputs": [],
   "source": [
    "from collections import defaultdict\n",
    "\n",
    "class Node(object):\n",
    "    def __init__(self, data, left=None, right=None):\n",
    "        self.data = data\n",
    "        self.left = left\n",
    "        self.right = right\n",
    "    \n",
    "    # we are overriding the `__repr__` method here simply to get more meaningful output\n",
    "    # when we print the `depth_map`\n",
    "    def __repr__(self):\n",
    "        return f'<Node data={self.data}>'\n",
    "        \n",
    "# depth-first approach\n",
    "def ll_dfs(node, depth=0, depth_map=None):\n",
    "    if node is None:\n",
    "        return\n",
    "    if depth_map is None:\n",
    "        depth_map = defaultdict(list)\n",
    "    depth_map[depth].append(node) # this is where defaultdict comes in - no if/else block\n",
    "    dfs(node.left, depth+1, depth_map)\n",
    "    dfs(node.right, depth+1, depth_map)\n",
    "    return depth_map\n"
   ]
  },
  {
   "cell_type": "code",
   "execution_count": 175,
   "metadata": {},
   "outputs": [],
   "source": [
    "root = Node(1000,\n",
    "            left=Node(900,\n",
    "                      left=Node(800),\n",
    "                      right=Node(920)\n",
    "                     ),\n",
    "            right=Node(2000,\n",
    "                       left=Node(1800),\n",
    "                       right=Node(2200)\n",
    "                      )\n",
    "           \n",
    "       )"
   ]
  },
  {
   "cell_type": "code",
   "execution_count": 176,
   "metadata": {},
   "outputs": [
    {
     "name": "stdout",
     "output_type": "stream",
     "text": [
      "defaultdict(<class 'list'>,\n",
      "            {0: [<Node data=1000>],\n",
      "             1: [<Node data=900>, <Node data=2000>],\n",
      "             2: [<Node data=800>,\n",
      "                 <Node data=920>,\n",
      "                 <Node data=1800>,\n",
      "                 <Node data=2200>]})\n"
     ]
    }
   ],
   "source": [
    "from pprint import pprint\n",
    "\n",
    "pprint(ll_dfs(root))"
   ]
  },
  {
   "cell_type": "code",
   "execution_count": 181,
   "metadata": {},
   "outputs": [],
   "source": [
    "from collections import defaultdict\n",
    "from queue import Queue\n",
    "\n",
    "class Node(object):\n",
    "    def __init__(self, data, left=None, right=None):\n",
    "        self.data = data\n",
    "        self.left = left\n",
    "        self.right = right\n",
    "    \n",
    "    # we are overriding the `__repr__` method here simply to get more meaningful output\n",
    "    # when we print the `depth_map`\n",
    "    def __repr__(self):\n",
    "        return f'<Node data={self.data}>'\n",
    "    \n",
    "def ll_bfs(node):\n",
    "    depth = 0\n",
    "    q = Queue()\n",
    "    depth_map = defaultdict(list)\n",
    "    q.put((node, depth))\n",
    "    while not q.empty():\n",
    "        node, depth = q.get()\n",
    "        depth_map[depth].append(node)\n",
    "        if node.left:\n",
    "            q.put((node.left, depth+1))\n",
    "        if node.right:\n",
    "            q.put((node.right, depth+1))\n",
    "    return depth_map"
   ]
  },
  {
   "cell_type": "code",
   "execution_count": 182,
   "metadata": {},
   "outputs": [],
   "source": [
    "root = Node(1000,\n",
    "            left=Node(900,\n",
    "                      left=Node(800),\n",
    "                      right=Node(920)\n",
    "                     ),\n",
    "            right=Node(2000,\n",
    "                       left=Node(1800),\n",
    "                       right=Node(2200)\n",
    "                      )\n",
    "           \n",
    "       )"
   ]
  },
  {
   "cell_type": "code",
   "execution_count": 183,
   "metadata": {},
   "outputs": [
    {
     "name": "stdout",
     "output_type": "stream",
     "text": [
      "defaultdict(<class 'list'>,\n",
      "            {0: [<Node data=1000>],\n",
      "             1: [<Node data=900>, <Node data=2000>],\n",
      "             2: [<Node data=800>,\n",
      "                 <Node data=920>,\n",
      "                 <Node data=1800>,\n",
      "                 <Node data=2200>]})\n"
     ]
    }
   ],
   "source": [
    "from pprint import pprint\n",
    "\n",
    "pprint(ll_bfs(root))"
   ]
  },
  {
   "cell_type": "code",
   "execution_count": 2,
   "metadata": {},
   "outputs": [
    {
     "ename": "ValueError",
     "evalue": "not enough values to unpack (expected 2, got 1)",
     "output_type": "error",
     "traceback": [
      "\u001b[0;31m---------------------------------------------------------------------------\u001b[0m",
      "\u001b[0;31mValueError\u001b[0m                                Traceback (most recent call last)",
      "\u001b[0;32m<ipython-input-2-6f908d743c90>\u001b[0m in \u001b[0;36m<module>\u001b[0;34m\u001b[0m\n\u001b[1;32m     31\u001b[0m     \u001b[0mdep_map\u001b[0m\u001b[0;34m[\u001b[0m\u001b[0mproject\u001b[0m\u001b[0;34m]\u001b[0m\u001b[0;34m.\u001b[0m\u001b[0mappend\u001b[0m\u001b[0;34m(\u001b[0m\u001b[0mdependency\u001b[0m\u001b[0;34m)\u001b[0m\u001b[0;34m\u001b[0m\u001b[0;34m\u001b[0m\u001b[0m\n\u001b[1;32m     32\u001b[0m \u001b[0;34m\u001b[0m\u001b[0m\n\u001b[0;32m---> 33\u001b[0;31m \u001b[0;32mfor\u001b[0m \u001b[0mk\u001b[0m\u001b[0;34m,\u001b[0m \u001b[0mv\u001b[0m \u001b[0;32min\u001b[0m \u001b[0mdep_map\u001b[0m\u001b[0;34m:\u001b[0m\u001b[0;34m\u001b[0m\u001b[0;34m\u001b[0m\u001b[0m\n\u001b[0m\u001b[1;32m     34\u001b[0m     \u001b[0;32mif\u001b[0m \u001b[0mv\u001b[0m \u001b[0;34m==\u001b[0m \u001b[0;34m[\u001b[0m\u001b[0;34m]\u001b[0m\u001b[0;34m:\u001b[0m\u001b[0;34m\u001b[0m\u001b[0;34m\u001b[0m\u001b[0m\n\u001b[1;32m     35\u001b[0m         \u001b[0mexec_order\u001b[0m\u001b[0;34m.\u001b[0m\u001b[0mappend\u001b[0m\u001b[0;34m(\u001b[0m\u001b[0mk\u001b[0m\u001b[0;34m)\u001b[0m\u001b[0;34m\u001b[0m\u001b[0;34m\u001b[0m\u001b[0m\n",
      "\u001b[0;31mValueError\u001b[0m: not enough values to unpack (expected 2, got 1)"
     ]
    }
   ],
   "source": [
    "## BUILD ORDER\n",
    "\"\"\"\n",
    "You are given a list of projects and a list of dependencies\n",
    "(which is a list of pairs of projects where the second project is dependent on the first project).\n",
    "\n",
    "All of the project's dependencies must be built before the project can be built\n",
    "\n",
    "find a build order that will allow the projects to be built\n",
    "if there is no valid build order, return an error\n",
    "\n",
    "example:\n",
    "\n",
    "projects: a,b,c,d,e,f\n",
    "dependencies: (a,d), (f,b), (b,d), (f,a), (d,c)\n",
    "\n",
    "output: f, e, a, b, d, c\n",
    "\"\"\"\n",
    "\n",
    "projects = ['a', 'b', 'c', 'd', 'e', 'f']\n",
    "dependencies = [('a','d'), ('f','b'), ('b','d'), ('f','a'), ('d','c')]\n",
    "\n",
    "class Node(object):\n",
    "    def __init__(self, data):\n",
    "        self.data = data\n",
    "        self.children = []\n",
    "    \n",
    "exec_order = []\n",
    "dep_map = {project: [] for project in projects}\n",
    "for dep in dependencies:\n",
    "    dependency, project = dep\n",
    "    dep_map[project].append(dependency)\n",
    "\n",
    "for k, v in dep_map:\n",
    "    if v == []:\n",
    "        exec_order.append(k)\n",
    "        for v in dep_map.values():\n",
    "            print(v)\n",
    "            if k in v:\n",
    "                v.pop(k)\n",
    "    \n",
    "print(dep_map)"
   ]
  },
  {
   "cell_type": "code",
   "execution_count": 16,
   "metadata": {},
   "outputs": [],
   "source": [
    "\"\"\"\n",
    "HOMEWORK:\n",
    "\n",
    "write a function to check if a binary tree is a binary search tree\n",
    "\"\"\"\n",
    "\n",
    "class Node(object):\n",
    "    def __init__(self, data, left=None, right=None):\n",
    "        self.data = data\n",
    "        self.left = left\n",
    "        self.right = right\n",
    "\n",
    "bst = Node(20,\n",
    "           left=Node(10,\n",
    "                     left=Node(5, left=Node(3)),\n",
    "                     right=Node(12, right=Node(14))),\n",
    "           right=Node(30,\n",
    "                      left=Node(25),\n",
    "                      right=Node(31)))\n",
    "\n",
    "non_bst = Node(10,\n",
    "               left=Node(5, \n",
    "                         left=Node(3),\n",
    "                         right=Node(12)),\n",
    "               right=Node(35))\n",
    "\n",
    "def is_binary_search_tree(node, upper=9999999999999, lower=-9999999999999):\n",
    "    if node is None:\n",
    "        return True\n",
    "    if not (lower < node.data < upper):\n",
    "        return False\n",
    "    return is_binary_search_tree(node.left,\n",
    "                                 upper=node.data,\n",
    "                                 lower=lower) and \\\n",
    "           is_binary_search_tree(node.right,\n",
    "                                 upper=upper,\n",
    "                                 lower=node.data)\n",
    "\n",
    "# O(n) time - this is the best efficiency possible for this problem\n",
    "# Worst case scenario - is a binary search tree - traverse all nodes once\n",
    "# Better scenario - is not a binary search tree - quick exit"
   ]
  },
  {
   "cell_type": "code",
   "execution_count": 17,
   "metadata": {},
   "outputs": [
    {
     "data": {
      "text/plain": [
       "True"
      ]
     },
     "execution_count": 17,
     "metadata": {},
     "output_type": "execute_result"
    }
   ],
   "source": [
    "is_binary_search_tree(bst)"
   ]
  },
  {
   "cell_type": "code",
   "execution_count": 18,
   "metadata": {},
   "outputs": [
    {
     "data": {
      "text/plain": [
       "False"
      ]
     },
     "execution_count": 18,
     "metadata": {},
     "output_type": "execute_result"
    }
   ],
   "source": [
    "is_binary_search_tree(non_bst)"
   ]
  },
  {
   "cell_type": "code",
   "execution_count": null,
   "metadata": {},
   "outputs": [],
   "source": []
  }
 ],
 "metadata": {
  "kernelspec": {
   "display_name": "Python 3",
   "language": "python",
   "name": "python3"
  },
  "language_info": {
   "codemirror_mode": {
    "name": "ipython",
    "version": 3
   },
   "file_extension": ".py",
   "mimetype": "text/x-python",
   "name": "python",
   "nbconvert_exporter": "python",
   "pygments_lexer": "ipython3",
   "version": "3.7.4"
  }
 },
 "nbformat": 4,
 "nbformat_minor": 4
}
