{
 "cells": [
  {
   "cell_type": "code",
   "execution_count": null,
   "metadata": {},
   "outputs": [],
   "source": [
    "\"\"\"\n",
    "1.\n",
    "0110 + 0010\n",
    "0011 + 0010\n",
    "0110 - 0011\n",
    "1000 - 0110\n",
    "2.\n",
    "0011 * 0101\n",
    "0011 * 0011\n",
    "1101 >> 2\n",
    "1101 ^ 0101\n",
    "3.\n",
    "0110 + 0110\n",
    "0100 * 0011\n",
    "1101 ^ (~1101)\n",
    "1011 & (~0 << 2)\n",
    "\"\"\""
   ]
  },
  {
   "cell_type": "code",
   "execution_count": 19,
   "metadata": {},
   "outputs": [],
   "source": [
    "## Problem:\n",
    "\"\"\"\n",
    "Write a \"get bit\" and a \"set bit\" function\n",
    "\n",
    "the get bit function should take a number and a position, and tell the value of that position in the binary representation of the number (edited) \n",
    "\n",
    "ie, for the number 9 == b(01001) at the position 0, return 1, for position 1  and 2 return 0,\n",
    "for position 3 return 1 , and for anything 4 and greater return 0\n",
    "\n",
    "set bit should take the same arguments but set the bit at that position to true\n",
    "\"\"\""
   ]
  },
  {
   "cell_type": "code",
   "execution_count": 70,
   "metadata": {},
   "outputs": [],
   "source": [
    "# O(log n) complexity - logarithmic scaling\n",
    "\n",
    "def get_bit(n, p):\n",
    "    print('provided number:', n)\n",
    "    print('provided position:', p)\n",
    "    b = format(n, 'b')\n",
    "    print('number in binary:', b)\n",
    "    rb = ''\n",
    "    for i in range(len(b)):\n",
    "        rb += b[len(b) - 1 - i]\n",
    "    print('number in binary reversed:', rb)\n",
    "    return rb[p]"
   ]
  },
  {
   "cell_type": "code",
   "execution_count": 71,
   "metadata": {},
   "outputs": [
    {
     "name": "stdout",
     "output_type": "stream",
     "text": [
      "provided number: 10\n",
      "provided position: 2\n",
      "number in binary: 1010\n",
      "number in binary reversed: 0101\n"
     ]
    },
    {
     "data": {
      "text/plain": [
       "'0'"
      ]
     },
     "execution_count": 71,
     "metadata": {},
     "output_type": "execute_result"
    }
   ],
   "source": [
    "get_bit(10, 2)"
   ]
  },
  {
   "cell_type": "code",
   "execution_count": 72,
   "metadata": {},
   "outputs": [],
   "source": [
    "# O(1) constant time\n",
    "\n",
    "def get_bit(n, p):\n",
    "    print('provided number:', n)\n",
    "    print('provided position:', p)\n",
    "    b = bin(n)\n",
    "    print('number in binary:', b)\n",
    "    if n & (1 << (p)):\n",
    "        return True\n",
    "    else:\n",
    "        return False"
   ]
  },
  {
   "cell_type": "code",
   "execution_count": 73,
   "metadata": {},
   "outputs": [
    {
     "name": "stdout",
     "output_type": "stream",
     "text": [
      "provided number: 47\n",
      "provided position: 0\n",
      "number in binary: 0b101111\n"
     ]
    },
    {
     "data": {
      "text/plain": [
       "True"
      ]
     },
     "execution_count": 73,
     "metadata": {},
     "output_type": "execute_result"
    }
   ],
   "source": [
    "get_bit(47, 0)"
   ]
  },
  {
   "cell_type": "code",
   "execution_count": 74,
   "metadata": {},
   "outputs": [
    {
     "name": "stdout",
     "output_type": "stream",
     "text": [
      "provided number: 47\n",
      "provided position: 1\n",
      "number in binary: 0b101111\n"
     ]
    },
    {
     "data": {
      "text/plain": [
       "True"
      ]
     },
     "execution_count": 74,
     "metadata": {},
     "output_type": "execute_result"
    }
   ],
   "source": [
    "get_bit(47, 1)"
   ]
  },
  {
   "cell_type": "code",
   "execution_count": 75,
   "metadata": {},
   "outputs": [
    {
     "name": "stdout",
     "output_type": "stream",
     "text": [
      "provided number: 47\n",
      "provided position: 2\n",
      "number in binary: 0b101111\n"
     ]
    },
    {
     "data": {
      "text/plain": [
       "True"
      ]
     },
     "execution_count": 75,
     "metadata": {},
     "output_type": "execute_result"
    }
   ],
   "source": [
    "get_bit(47, 2)"
   ]
  },
  {
   "cell_type": "code",
   "execution_count": 76,
   "metadata": {},
   "outputs": [
    {
     "name": "stdout",
     "output_type": "stream",
     "text": [
      "provided number: 47\n",
      "provided position: 3\n",
      "number in binary: 0b101111\n"
     ]
    },
    {
     "data": {
      "text/plain": [
       "True"
      ]
     },
     "execution_count": 76,
     "metadata": {},
     "output_type": "execute_result"
    }
   ],
   "source": [
    "get_bit(47, 3)"
   ]
  },
  {
   "cell_type": "code",
   "execution_count": 77,
   "metadata": {},
   "outputs": [
    {
     "name": "stdout",
     "output_type": "stream",
     "text": [
      "provided number: 47\n",
      "provided position: 4\n",
      "number in binary: 0b101111\n"
     ]
    },
    {
     "data": {
      "text/plain": [
       "False"
      ]
     },
     "execution_count": 77,
     "metadata": {},
     "output_type": "execute_result"
    }
   ],
   "source": [
    "get_bit(47, 4)"
   ]
  },
  {
   "cell_type": "code",
   "execution_count": 78,
   "metadata": {},
   "outputs": [
    {
     "name": "stdout",
     "output_type": "stream",
     "text": [
      "provided number: 47\n",
      "provided position: 5\n",
      "number in binary: 0b101111\n"
     ]
    },
    {
     "data": {
      "text/plain": [
       "True"
      ]
     },
     "execution_count": 78,
     "metadata": {},
     "output_type": "execute_result"
    }
   ],
   "source": [
    "get_bit(47, 5)"
   ]
  },
  {
   "cell_type": "code",
   "execution_count": 79,
   "metadata": {},
   "outputs": [
    {
     "name": "stdout",
     "output_type": "stream",
     "text": [
      "provided number: 47\n",
      "provided position: 6\n",
      "number in binary: 0b101111\n"
     ]
    },
    {
     "data": {
      "text/plain": [
       "False"
      ]
     },
     "execution_count": 79,
     "metadata": {},
     "output_type": "execute_result"
    }
   ],
   "source": [
    "get_bit(47, 6)"
   ]
  },
  {
   "cell_type": "code",
   "execution_count": 80,
   "metadata": {},
   "outputs": [
    {
     "name": "stdout",
     "output_type": "stream",
     "text": [
      "provided number: 47\n",
      "provided position: 7\n",
      "number in binary: 0b101111\n"
     ]
    },
    {
     "data": {
      "text/plain": [
       "False"
      ]
     },
     "execution_count": 80,
     "metadata": {},
     "output_type": "execute_result"
    }
   ],
   "source": [
    "get_bit(47, 7)"
   ]
  },
  {
   "cell_type": "code",
   "execution_count": 81,
   "metadata": {},
   "outputs": [],
   "source": [
    "# one-liner version\n",
    "def get_bit(n, p):\n",
    "    return n & (1 << p) != 0"
   ]
  },
  {
   "cell_type": "code",
   "execution_count": 148,
   "metadata": {},
   "outputs": [
    {
     "name": "stdout",
     "output_type": "stream",
     "text": [
      "This is the string \"Trunk's America\" in a binary representation:\n"
     ]
    },
    {
     "data": {
      "text/plain": [
       "'0b10101000b11100100b11101010b11011100b11010110b1001110b11100110b1000000b10000010b11011010b11001010b11100100b11010010b11000110b1100001'"
      ]
     },
     "execution_count": 148,
     "metadata": {},
     "output_type": "execute_result"
    }
   ],
   "source": [
    "# here we assign the variable \"phrase\" to a very awesome string\n",
    "phrase = \"Trunk's America\"\n",
    "# here we assign the variable \"b\" to a series of bytes representing that string (a byte is 8 bits)\n",
    "b = bytearray(phrase, 'utf-8')\n",
    "# here we join the series of bytes together to make it nicer to print out\n",
    "bs = ''.join(map(bin, b))\n",
    "# informational message\n",
    "print(f'This is the string \"{phrase}\" in a binary representation:')\n",
    "# here we return the formatted binary representation of \"phrase\" so we can see it\n",
    "bs"
   ]
  },
  {
   "cell_type": "code",
   "execution_count": 127,
   "metadata": {},
   "outputs": [
    {
     "name": "stdout",
     "output_type": "stream",
     "text": [
      "This is that binary representation converted back into a string:\n"
     ]
    },
    {
     "data": {
      "text/plain": [
       "\"Trunk's America\""
      ]
     },
     "execution_count": 127,
     "metadata": {},
     "output_type": "execute_result"
    }
   ],
   "source": [
    "# informational message\n",
    "print('This is that binary representation converted back into a string:')\n",
    "# here we take our raw series of bytes (\"b\") representing \"phrase\" and decode it to the original string\n",
    "b.decode('ascii')"
   ]
  },
  {
   "cell_type": "code",
   "execution_count": 128,
   "metadata": {},
   "outputs": [
    {
     "name": "stdout",
     "output_type": "stream",
     "text": [
      "EVERYTHING\n",
      "IS\n",
      "BINARY!!!\n"
     ]
    }
   ],
   "source": [
    "print(\"EVERYTHING\\nIS\\nBINARY!!!\")"
   ]
  },
  {
   "cell_type": "code",
   "execution_count": 137,
   "metadata": {},
   "outputs": [],
   "source": [
    "def set_bit(n, p):\n",
    "    print(f'orig num base10: {n}')\n",
    "    print(f'orig num binary: {bin(n)}')\n",
    "    new_n = (1 << p | n)\n",
    "    print(f'new num binary:  {bin(new_n)}')\n",
    "    print(f'new num base10:  {new_n}')\n",
    "    return new_n\n",
    "\n",
    "# O(1) - constant time"
   ]
  },
  {
   "cell_type": "code",
   "execution_count": 138,
   "metadata": {},
   "outputs": [
    {
     "name": "stdout",
     "output_type": "stream",
     "text": [
      "orig num base10: 10\n",
      "orig num binary: 0b1010\n",
      "new num binary:  0b1010\n",
      "new num base10:  10\n"
     ]
    },
    {
     "data": {
      "text/plain": [
       "10"
      ]
     },
     "execution_count": 138,
     "metadata": {},
     "output_type": "execute_result"
    }
   ],
   "source": [
    "set_bit(10, 3)"
   ]
  },
  {
   "cell_type": "code",
   "execution_count": 139,
   "metadata": {},
   "outputs": [
    {
     "name": "stdout",
     "output_type": "stream",
     "text": [
      "orig num base10: 10\n",
      "orig num binary: 0b1010\n",
      "new num binary:  0b1110\n",
      "new num base10:  14\n"
     ]
    },
    {
     "data": {
      "text/plain": [
       "14"
      ]
     },
     "execution_count": 139,
     "metadata": {},
     "output_type": "execute_result"
    }
   ],
   "source": [
    "set_bit(10, 2)"
   ]
  },
  {
   "cell_type": "code",
   "execution_count": 140,
   "metadata": {},
   "outputs": [],
   "source": [
    "def clear_bit(n, p):\n",
    "    print(f'orig num base10: {n}')\n",
    "    print(f'orig num binary: {bin(n)}')\n",
    "    new_n = (~(1 << p) & n)\n",
    "    print(f'new num binary:  {bin(new_n)}')\n",
    "    print(f'new num base10:  {new_n}')\n",
    "    return new_n"
   ]
  },
  {
   "cell_type": "code",
   "execution_count": 144,
   "metadata": {},
   "outputs": [],
   "source": [
    "def clear_bits_from_most_significant(n, p):\n",
    "    print(f'orig num base10: {n}')\n",
    "    print(f'orig num binary: {bin(n)}')\n",
    "    new_n = (((1 << p) - 1) & n)\n",
    "    print(f'new num binary:  {bin(new_n)}')\n",
    "    print(f'new num base10:  {new_n}')\n",
    "    return new_n"
   ]
  },
  {
   "cell_type": "code",
   "execution_count": 145,
   "metadata": {},
   "outputs": [
    {
     "name": "stdout",
     "output_type": "stream",
     "text": [
      "orig num base10: 10\n",
      "orig num binary: 0b1010\n",
      "new num binary:  0b0\n",
      "new num base10:  0\n"
     ]
    },
    {
     "data": {
      "text/plain": [
       "0"
      ]
     },
     "execution_count": 145,
     "metadata": {},
     "output_type": "execute_result"
    }
   ],
   "source": [
    "clear_bits_from_most_significant(10, 1)"
   ]
  },
  {
   "cell_type": "code",
   "execution_count": 146,
   "metadata": {},
   "outputs": [
    {
     "name": "stdout",
     "output_type": "stream",
     "text": [
      "orig num base10: 11\n",
      "orig num binary: 0b1011\n",
      "new num binary:  0b1\n",
      "new num base10:  1\n"
     ]
    },
    {
     "data": {
      "text/plain": [
       "1"
      ]
     },
     "execution_count": 146,
     "metadata": {},
     "output_type": "execute_result"
    }
   ],
   "source": [
    "clear_bits_from_most_significant(11, 1)"
   ]
  },
  {
   "cell_type": "code",
   "execution_count": null,
   "metadata": {},
   "outputs": [],
   "source": []
  }
 ],
 "metadata": {
  "kernelspec": {
   "display_name": "Python 3",
   "language": "python",
   "name": "python3"
  },
  "language_info": {
   "codemirror_mode": {
    "name": "ipython",
    "version": 3
   },
   "file_extension": ".py",
   "mimetype": "text/x-python",
   "name": "python",
   "nbconvert_exporter": "python",
   "pygments_lexer": "ipython3",
   "version": "3.7.4"
  }
 },
 "nbformat": 4,
 "nbformat_minor": 4
}
